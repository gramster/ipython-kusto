{
 "metadata": {
  "language_info": {
   "codemirror_mode": {
    "name": "ipython",
    "version": 3
   },
   "file_extension": ".py",
   "mimetype": "text/x-python",
   "name": "python",
   "nbconvert_exporter": "python",
   "pygments_lexer": "ipython3",
   "version": "3.8.5-final"
  },
  "orig_nbformat": 2,
  "kernelspec": {
   "name": "python_defaultSpec_1597979057074",
   "display_name": "Python 3.8.5 64-bit ('.venv': venv)"
  }
 },
 "nbformat": 4,
 "nbformat_minor": 2,
 "cells": [
  {
   "cell_type": "markdown",
   "metadata": {},
   "source": [
    "# Examples of Use\n",
    "\n",
    "First load the extension."
   ]
  },
  {
   "cell_type": "code",
   "execution_count": 1,
   "metadata": {},
   "outputs": [],
   "source": [
    "%load_ext kusto"
   ]
  },
  {
   "cell_type": "markdown",
   "metadata": {},
   "source": [
    "## Show Help"
   ]
  },
  {
   "cell_type": "code",
   "execution_count": 2,
   "metadata": {
    "tags": []
   },
   "outputs": [
    {
     "output_type": "stream",
     "text": "\u001b[0;31mDocstring:\u001b[0m\n::\n\n  %configure [-c CLUSTER] [-d DATABASE]\n\n Set the default Kusto cluster and/or database. This overrides\nwhat is in the extension configuration, but can in turn be overriden\nper query by the %kql magic.\n\noptional arguments:\n  -c CLUSTER, --cluster CLUSTER\n                        specify default cluster\n  -d DATABASE, --database DATABASE\n                        specify default database\n\u001b[0;31mFile:\u001b[0m      ~/repos/ipython-kusto/.venv/lib/python3.8/site-packages/ipython_kusto-0.0.2-py3.8.egg/kusto/magic.py\n"
    }
   ],
   "source": [
    "%kqlset?"
   ]
  },
  {
   "cell_type": "code",
   "execution_count": 3,
   "metadata": {},
   "outputs": [
    {
     "output_type": "stream",
     "text": "\u001b[0;31mDocstring:\u001b[0m\n::\n\n  %execute [-c CLUSTER] [-d DATABASE] [-f FILE] [-s SET] [-q]\n               [line [line ...]]\n\nRuns KQL statement against a database in a cluster.\nIf necessary, an attempt will be made to log in to Azure first.\nThe result is returned as a Pandas DataFrame and assigned to a \nPython variable (by default named kqlresult, unless overridden by --set).\n\npositional arguments:\n  line                  kql query\n\noptional arguments:\n  -c CLUSTER, --cluster CLUSTER\n                        specify cluster\n  -d DATABASE, --database DATABASE\n                        specify database\n  -f FILE, --file FILE  Run KQL from file at this path\n  -s SET, --set SET     name of Python variable to assign result to\n  -q, --quiet           Don't display dataframe\n\u001b[0;31mFile:\u001b[0m      ~/repos/ipython-kusto/.venv/lib/python3.8/site-packages/ipython_kusto-0.0.2-py3.8.egg/kusto/magic.py\n"
    }
   ],
   "source": [
    "%kql?"
   ]
  },
  {
   "cell_type": "markdown",
   "metadata": {},
   "source": [
    "## Run a Query and set a Variable\n",
    "\n",
    "Note: if necessary you will be redirected to a browser page to select your account and log in. "
   ]
  },
  {
   "cell_type": "code",
   "execution_count": 4,
   "metadata": {
    "tags": []
   },
   "outputs": [
    {
     "output_type": "execute_result",
     "data": {
      "text/plain": "                  StartTime                   EndTime  EpisodeId  EventId  \\\n0 2007-09-29 08:11:00+00:00 2007-09-29 08:11:00+00:00      11091    61032   \n1 2007-09-18 20:00:00+00:00 2007-09-19 18:00:00+00:00      11074    60904   \n2 2007-09-20 21:57:00+00:00 2007-09-20 22:05:00+00:00      11078    60913   \n3 2007-12-30 16:00:00+00:00 2007-12-30 16:05:00+00:00      11749    64588   \n4 2007-12-20 07:50:00+00:00 2007-12-20 07:53:00+00:00      12554    68796   \n\n            State          EventType  InjuriesDirect  InjuriesIndirect  \\\n0  ATLANTIC SOUTH         Waterspout               0                 0   \n1         FLORIDA         Heavy Rain               0                 0   \n2         FLORIDA            Tornado               0                 0   \n3         GEORGIA  Thunderstorm Wind               0                 0   \n4     MISSISSIPPI  Thunderstorm Wind               0                 0   \n\n   DeathsDirect  DeathsIndirect  ...             Source    BeginLocation  \\\n0             0               0  ...    Trained Spotter  MELBOURNE BEACH   \n1             0               0  ...    Trained Spotter     ORMOND BEACH   \n2             0               0  ...   NWS Storm Survey           EUSTIS   \n3             0               0  ...    Law Enforcement            LOTTS   \n4             0               0  ...  Emergency Manager        CRANFIELD   \n\n        EndLocation BeginLat BeginLon   EndLat   EndLon  \\\n0   MELBOURNE BEACH  28.0393 -80.6048  28.0393 -80.6048   \n1  NEW SMYRNA BEACH  29.2800 -81.0500  29.0200 -80.9300   \n2            EUSTIS  28.8368 -81.6763  28.8628 -81.6846   \n3             LOTTS  31.5600 -82.8900  31.5600 -82.8900   \n4          LEESDALE  31.5400 -91.2100  31.5452 -91.1948   \n\n                                    EpisodeNarrative  \\\n0  Showers and thunderstorms lingering along the ...   \n1        Thunderstorms lingered over Volusia County.   \n2  As Tropical Depression number 10 began to slow...   \n3  An area of low pressure developed near the cen...   \n4  A small, but potent, storm system evolved and ...   \n\n                                      EventNarrative  \\\n0  A waterspout formed in the Atlantic southeast ...   \n1  As much as 9 inches of rain fell in a 24-hour ...   \n2  A tornado touched down in the Town of Eustis a...   \n3  The county dispatch reported several trees wer...   \n4  Numerous large trees were blown down with some...   \n\n                                        StormSummary  \n0  {'TotalDamages': 0, 'StartTime': '2007-09-29T0...  \n1  {'TotalDamages': 0, 'StartTime': '2007-09-18T2...  \n2  {'TotalDamages': 6200000, 'StartTime': '2007-0...  \n3  {'TotalDamages': 2000, 'StartTime': '2007-12-3...  \n4  {'TotalDamages': 20000, 'StartTime': '2007-12-...  \n\n[5 rows x 22 columns]",
      "text/html": "<div>\n<style scoped>\n    .dataframe tbody tr th:only-of-type {\n        vertical-align: middle;\n    }\n\n    .dataframe tbody tr th {\n        vertical-align: top;\n    }\n\n    .dataframe thead th {\n        text-align: right;\n    }\n</style>\n<table border=\"1\" class=\"dataframe\">\n  <thead>\n    <tr style=\"text-align: right;\">\n      <th></th>\n      <th>StartTime</th>\n      <th>EndTime</th>\n      <th>EpisodeId</th>\n      <th>EventId</th>\n      <th>State</th>\n      <th>EventType</th>\n      <th>InjuriesDirect</th>\n      <th>InjuriesIndirect</th>\n      <th>DeathsDirect</th>\n      <th>DeathsIndirect</th>\n      <th>...</th>\n      <th>Source</th>\n      <th>BeginLocation</th>\n      <th>EndLocation</th>\n      <th>BeginLat</th>\n      <th>BeginLon</th>\n      <th>EndLat</th>\n      <th>EndLon</th>\n      <th>EpisodeNarrative</th>\n      <th>EventNarrative</th>\n      <th>StormSummary</th>\n    </tr>\n  </thead>\n  <tbody>\n    <tr>\n      <th>0</th>\n      <td>2007-09-29 08:11:00+00:00</td>\n      <td>2007-09-29 08:11:00+00:00</td>\n      <td>11091</td>\n      <td>61032</td>\n      <td>ATLANTIC SOUTH</td>\n      <td>Waterspout</td>\n      <td>0</td>\n      <td>0</td>\n      <td>0</td>\n      <td>0</td>\n      <td>...</td>\n      <td>Trained Spotter</td>\n      <td>MELBOURNE BEACH</td>\n      <td>MELBOURNE BEACH</td>\n      <td>28.0393</td>\n      <td>-80.6048</td>\n      <td>28.0393</td>\n      <td>-80.6048</td>\n      <td>Showers and thunderstorms lingering along the ...</td>\n      <td>A waterspout formed in the Atlantic southeast ...</td>\n      <td>{'TotalDamages': 0, 'StartTime': '2007-09-29T0...</td>\n    </tr>\n    <tr>\n      <th>1</th>\n      <td>2007-09-18 20:00:00+00:00</td>\n      <td>2007-09-19 18:00:00+00:00</td>\n      <td>11074</td>\n      <td>60904</td>\n      <td>FLORIDA</td>\n      <td>Heavy Rain</td>\n      <td>0</td>\n      <td>0</td>\n      <td>0</td>\n      <td>0</td>\n      <td>...</td>\n      <td>Trained Spotter</td>\n      <td>ORMOND BEACH</td>\n      <td>NEW SMYRNA BEACH</td>\n      <td>29.2800</td>\n      <td>-81.0500</td>\n      <td>29.0200</td>\n      <td>-80.9300</td>\n      <td>Thunderstorms lingered over Volusia County.</td>\n      <td>As much as 9 inches of rain fell in a 24-hour ...</td>\n      <td>{'TotalDamages': 0, 'StartTime': '2007-09-18T2...</td>\n    </tr>\n    <tr>\n      <th>2</th>\n      <td>2007-09-20 21:57:00+00:00</td>\n      <td>2007-09-20 22:05:00+00:00</td>\n      <td>11078</td>\n      <td>60913</td>\n      <td>FLORIDA</td>\n      <td>Tornado</td>\n      <td>0</td>\n      <td>0</td>\n      <td>0</td>\n      <td>0</td>\n      <td>...</td>\n      <td>NWS Storm Survey</td>\n      <td>EUSTIS</td>\n      <td>EUSTIS</td>\n      <td>28.8368</td>\n      <td>-81.6763</td>\n      <td>28.8628</td>\n      <td>-81.6846</td>\n      <td>As Tropical Depression number 10 began to slow...</td>\n      <td>A tornado touched down in the Town of Eustis a...</td>\n      <td>{'TotalDamages': 6200000, 'StartTime': '2007-0...</td>\n    </tr>\n    <tr>\n      <th>3</th>\n      <td>2007-12-30 16:00:00+00:00</td>\n      <td>2007-12-30 16:05:00+00:00</td>\n      <td>11749</td>\n      <td>64588</td>\n      <td>GEORGIA</td>\n      <td>Thunderstorm Wind</td>\n      <td>0</td>\n      <td>0</td>\n      <td>0</td>\n      <td>0</td>\n      <td>...</td>\n      <td>Law Enforcement</td>\n      <td>LOTTS</td>\n      <td>LOTTS</td>\n      <td>31.5600</td>\n      <td>-82.8900</td>\n      <td>31.5600</td>\n      <td>-82.8900</td>\n      <td>An area of low pressure developed near the cen...</td>\n      <td>The county dispatch reported several trees wer...</td>\n      <td>{'TotalDamages': 2000, 'StartTime': '2007-12-3...</td>\n    </tr>\n    <tr>\n      <th>4</th>\n      <td>2007-12-20 07:50:00+00:00</td>\n      <td>2007-12-20 07:53:00+00:00</td>\n      <td>12554</td>\n      <td>68796</td>\n      <td>MISSISSIPPI</td>\n      <td>Thunderstorm Wind</td>\n      <td>0</td>\n      <td>0</td>\n      <td>0</td>\n      <td>0</td>\n      <td>...</td>\n      <td>Emergency Manager</td>\n      <td>CRANFIELD</td>\n      <td>LEESDALE</td>\n      <td>31.5400</td>\n      <td>-91.2100</td>\n      <td>31.5452</td>\n      <td>-91.1948</td>\n      <td>A small, but potent, storm system evolved and ...</td>\n      <td>Numerous large trees were blown down with some...</td>\n      <td>{'TotalDamages': 20000, 'StartTime': '2007-12-...</td>\n    </tr>\n  </tbody>\n</table>\n<p>5 rows × 22 columns</p>\n</div>"
     },
     "metadata": {},
     "execution_count": 4
    }
   ],
   "source": [
    "%%kql -c help -d Samples -s df\n",
    "StormEvents | limit 5"
   ]
  },
  {
   "cell_type": "code",
   "execution_count": 5,
   "metadata": {},
   "outputs": [
    {
     "output_type": "execute_result",
     "data": {
      "text/plain": "                  StartTime                   EndTime  EpisodeId  EventId  \\\n0 2007-09-29 08:11:00+00:00 2007-09-29 08:11:00+00:00      11091    61032   \n1 2007-09-18 20:00:00+00:00 2007-09-19 18:00:00+00:00      11074    60904   \n2 2007-09-20 21:57:00+00:00 2007-09-20 22:05:00+00:00      11078    60913   \n3 2007-12-30 16:00:00+00:00 2007-12-30 16:05:00+00:00      11749    64588   \n4 2007-12-20 07:50:00+00:00 2007-12-20 07:53:00+00:00      12554    68796   \n\n            State          EventType  InjuriesDirect  InjuriesIndirect  \\\n0  ATLANTIC SOUTH         Waterspout               0                 0   \n1         FLORIDA         Heavy Rain               0                 0   \n2         FLORIDA            Tornado               0                 0   \n3         GEORGIA  Thunderstorm Wind               0                 0   \n4     MISSISSIPPI  Thunderstorm Wind               0                 0   \n\n   DeathsDirect  DeathsIndirect  ...             Source    BeginLocation  \\\n0             0               0  ...    Trained Spotter  MELBOURNE BEACH   \n1             0               0  ...    Trained Spotter     ORMOND BEACH   \n2             0               0  ...   NWS Storm Survey           EUSTIS   \n3             0               0  ...    Law Enforcement            LOTTS   \n4             0               0  ...  Emergency Manager        CRANFIELD   \n\n        EndLocation BeginLat BeginLon   EndLat   EndLon  \\\n0   MELBOURNE BEACH  28.0393 -80.6048  28.0393 -80.6048   \n1  NEW SMYRNA BEACH  29.2800 -81.0500  29.0200 -80.9300   \n2            EUSTIS  28.8368 -81.6763  28.8628 -81.6846   \n3             LOTTS  31.5600 -82.8900  31.5600 -82.8900   \n4          LEESDALE  31.5400 -91.2100  31.5452 -91.1948   \n\n                                    EpisodeNarrative  \\\n0  Showers and thunderstorms lingering along the ...   \n1        Thunderstorms lingered over Volusia County.   \n2  As Tropical Depression number 10 began to slow...   \n3  An area of low pressure developed near the cen...   \n4  A small, but potent, storm system evolved and ...   \n\n                                      EventNarrative  \\\n0  A waterspout formed in the Atlantic southeast ...   \n1  As much as 9 inches of rain fell in a 24-hour ...   \n2  A tornado touched down in the Town of Eustis a...   \n3  The county dispatch reported several trees wer...   \n4  Numerous large trees were blown down with some...   \n\n                                        StormSummary  \n0  {'TotalDamages': 0, 'StartTime': '2007-09-29T0...  \n1  {'TotalDamages': 0, 'StartTime': '2007-09-18T2...  \n2  {'TotalDamages': 6200000, 'StartTime': '2007-0...  \n3  {'TotalDamages': 2000, 'StartTime': '2007-12-3...  \n4  {'TotalDamages': 20000, 'StartTime': '2007-12-...  \n\n[5 rows x 22 columns]",
      "text/html": "<div>\n<style scoped>\n    .dataframe tbody tr th:only-of-type {\n        vertical-align: middle;\n    }\n\n    .dataframe tbody tr th {\n        vertical-align: top;\n    }\n\n    .dataframe thead th {\n        text-align: right;\n    }\n</style>\n<table border=\"1\" class=\"dataframe\">\n  <thead>\n    <tr style=\"text-align: right;\">\n      <th></th>\n      <th>StartTime</th>\n      <th>EndTime</th>\n      <th>EpisodeId</th>\n      <th>EventId</th>\n      <th>State</th>\n      <th>EventType</th>\n      <th>InjuriesDirect</th>\n      <th>InjuriesIndirect</th>\n      <th>DeathsDirect</th>\n      <th>DeathsIndirect</th>\n      <th>...</th>\n      <th>Source</th>\n      <th>BeginLocation</th>\n      <th>EndLocation</th>\n      <th>BeginLat</th>\n      <th>BeginLon</th>\n      <th>EndLat</th>\n      <th>EndLon</th>\n      <th>EpisodeNarrative</th>\n      <th>EventNarrative</th>\n      <th>StormSummary</th>\n    </tr>\n  </thead>\n  <tbody>\n    <tr>\n      <th>0</th>\n      <td>2007-09-29 08:11:00+00:00</td>\n      <td>2007-09-29 08:11:00+00:00</td>\n      <td>11091</td>\n      <td>61032</td>\n      <td>ATLANTIC SOUTH</td>\n      <td>Waterspout</td>\n      <td>0</td>\n      <td>0</td>\n      <td>0</td>\n      <td>0</td>\n      <td>...</td>\n      <td>Trained Spotter</td>\n      <td>MELBOURNE BEACH</td>\n      <td>MELBOURNE BEACH</td>\n      <td>28.0393</td>\n      <td>-80.6048</td>\n      <td>28.0393</td>\n      <td>-80.6048</td>\n      <td>Showers and thunderstorms lingering along the ...</td>\n      <td>A waterspout formed in the Atlantic southeast ...</td>\n      <td>{'TotalDamages': 0, 'StartTime': '2007-09-29T0...</td>\n    </tr>\n    <tr>\n      <th>1</th>\n      <td>2007-09-18 20:00:00+00:00</td>\n      <td>2007-09-19 18:00:00+00:00</td>\n      <td>11074</td>\n      <td>60904</td>\n      <td>FLORIDA</td>\n      <td>Heavy Rain</td>\n      <td>0</td>\n      <td>0</td>\n      <td>0</td>\n      <td>0</td>\n      <td>...</td>\n      <td>Trained Spotter</td>\n      <td>ORMOND BEACH</td>\n      <td>NEW SMYRNA BEACH</td>\n      <td>29.2800</td>\n      <td>-81.0500</td>\n      <td>29.0200</td>\n      <td>-80.9300</td>\n      <td>Thunderstorms lingered over Volusia County.</td>\n      <td>As much as 9 inches of rain fell in a 24-hour ...</td>\n      <td>{'TotalDamages': 0, 'StartTime': '2007-09-18T2...</td>\n    </tr>\n    <tr>\n      <th>2</th>\n      <td>2007-09-20 21:57:00+00:00</td>\n      <td>2007-09-20 22:05:00+00:00</td>\n      <td>11078</td>\n      <td>60913</td>\n      <td>FLORIDA</td>\n      <td>Tornado</td>\n      <td>0</td>\n      <td>0</td>\n      <td>0</td>\n      <td>0</td>\n      <td>...</td>\n      <td>NWS Storm Survey</td>\n      <td>EUSTIS</td>\n      <td>EUSTIS</td>\n      <td>28.8368</td>\n      <td>-81.6763</td>\n      <td>28.8628</td>\n      <td>-81.6846</td>\n      <td>As Tropical Depression number 10 began to slow...</td>\n      <td>A tornado touched down in the Town of Eustis a...</td>\n      <td>{'TotalDamages': 6200000, 'StartTime': '2007-0...</td>\n    </tr>\n    <tr>\n      <th>3</th>\n      <td>2007-12-30 16:00:00+00:00</td>\n      <td>2007-12-30 16:05:00+00:00</td>\n      <td>11749</td>\n      <td>64588</td>\n      <td>GEORGIA</td>\n      <td>Thunderstorm Wind</td>\n      <td>0</td>\n      <td>0</td>\n      <td>0</td>\n      <td>0</td>\n      <td>...</td>\n      <td>Law Enforcement</td>\n      <td>LOTTS</td>\n      <td>LOTTS</td>\n      <td>31.5600</td>\n      <td>-82.8900</td>\n      <td>31.5600</td>\n      <td>-82.8900</td>\n      <td>An area of low pressure developed near the cen...</td>\n      <td>The county dispatch reported several trees wer...</td>\n      <td>{'TotalDamages': 2000, 'StartTime': '2007-12-3...</td>\n    </tr>\n    <tr>\n      <th>4</th>\n      <td>2007-12-20 07:50:00+00:00</td>\n      <td>2007-12-20 07:53:00+00:00</td>\n      <td>12554</td>\n      <td>68796</td>\n      <td>MISSISSIPPI</td>\n      <td>Thunderstorm Wind</td>\n      <td>0</td>\n      <td>0</td>\n      <td>0</td>\n      <td>0</td>\n      <td>...</td>\n      <td>Emergency Manager</td>\n      <td>CRANFIELD</td>\n      <td>LEESDALE</td>\n      <td>31.5400</td>\n      <td>-91.2100</td>\n      <td>31.5452</td>\n      <td>-91.1948</td>\n      <td>A small, but potent, storm system evolved and ...</td>\n      <td>Numerous large trees were blown down with some...</td>\n      <td>{'TotalDamages': 20000, 'StartTime': '2007-12-...</td>\n    </tr>\n  </tbody>\n</table>\n<p>5 rows × 22 columns</p>\n</div>"
     },
     "metadata": {},
     "execution_count": 5
    }
   ],
   "source": [
    "df"
   ]
  },
  {
   "cell_type": "markdown",
   "metadata": {},
   "source": [
    "## Example showing variable substitution"
   ]
  },
  {
   "cell_type": "code",
   "execution_count": 6,
   "metadata": {},
   "outputs": [],
   "source": [
    "cluster = 'help'\n",
    "database = 'Samples'\n",
    "table = 'StormEvents'\n",
    "limit = 3"
   ]
  },
  {
   "cell_type": "code",
   "execution_count": 7,
   "metadata": {},
   "outputs": [
    {
     "output_type": "execute_result",
     "data": {
      "text/plain": "                  StartTime                   EndTime  EpisodeId  EventId  \\\n0 2007-09-29 08:11:00+00:00 2007-09-29 08:11:00+00:00      11091    61032   \n1 2007-09-18 20:00:00+00:00 2007-09-19 18:00:00+00:00      11074    60904   \n2 2007-09-20 21:57:00+00:00 2007-09-20 22:05:00+00:00      11078    60913   \n\n            State   EventType  InjuriesDirect  InjuriesIndirect  DeathsDirect  \\\n0  ATLANTIC SOUTH  Waterspout               0                 0             0   \n1         FLORIDA  Heavy Rain               0                 0             0   \n2         FLORIDA     Tornado               0                 0             0   \n\n   DeathsIndirect  ...            Source    BeginLocation       EndLocation  \\\n0               0  ...   Trained Spotter  MELBOURNE BEACH   MELBOURNE BEACH   \n1               0  ...   Trained Spotter     ORMOND BEACH  NEW SMYRNA BEACH   \n2               0  ...  NWS Storm Survey           EUSTIS            EUSTIS   \n\n  BeginLat BeginLon   EndLat   EndLon  \\\n0  28.0393 -80.6048  28.0393 -80.6048   \n1  29.2800 -81.0500  29.0200 -80.9300   \n2  28.8368 -81.6763  28.8628 -81.6846   \n\n                                    EpisodeNarrative  \\\n0  Showers and thunderstorms lingering along the ...   \n1        Thunderstorms lingered over Volusia County.   \n2  As Tropical Depression number 10 began to slow...   \n\n                                      EventNarrative  \\\n0  A waterspout formed in the Atlantic southeast ...   \n1  As much as 9 inches of rain fell in a 24-hour ...   \n2  A tornado touched down in the Town of Eustis a...   \n\n                                        StormSummary  \n0  {'TotalDamages': 0, 'StartTime': '2007-09-29T0...  \n1  {'TotalDamages': 0, 'StartTime': '2007-09-18T2...  \n2  {'TotalDamages': 6200000, 'StartTime': '2007-0...  \n\n[3 rows x 22 columns]",
      "text/html": "<div>\n<style scoped>\n    .dataframe tbody tr th:only-of-type {\n        vertical-align: middle;\n    }\n\n    .dataframe tbody tr th {\n        vertical-align: top;\n    }\n\n    .dataframe thead th {\n        text-align: right;\n    }\n</style>\n<table border=\"1\" class=\"dataframe\">\n  <thead>\n    <tr style=\"text-align: right;\">\n      <th></th>\n      <th>StartTime</th>\n      <th>EndTime</th>\n      <th>EpisodeId</th>\n      <th>EventId</th>\n      <th>State</th>\n      <th>EventType</th>\n      <th>InjuriesDirect</th>\n      <th>InjuriesIndirect</th>\n      <th>DeathsDirect</th>\n      <th>DeathsIndirect</th>\n      <th>...</th>\n      <th>Source</th>\n      <th>BeginLocation</th>\n      <th>EndLocation</th>\n      <th>BeginLat</th>\n      <th>BeginLon</th>\n      <th>EndLat</th>\n      <th>EndLon</th>\n      <th>EpisodeNarrative</th>\n      <th>EventNarrative</th>\n      <th>StormSummary</th>\n    </tr>\n  </thead>\n  <tbody>\n    <tr>\n      <th>0</th>\n      <td>2007-09-29 08:11:00+00:00</td>\n      <td>2007-09-29 08:11:00+00:00</td>\n      <td>11091</td>\n      <td>61032</td>\n      <td>ATLANTIC SOUTH</td>\n      <td>Waterspout</td>\n      <td>0</td>\n      <td>0</td>\n      <td>0</td>\n      <td>0</td>\n      <td>...</td>\n      <td>Trained Spotter</td>\n      <td>MELBOURNE BEACH</td>\n      <td>MELBOURNE BEACH</td>\n      <td>28.0393</td>\n      <td>-80.6048</td>\n      <td>28.0393</td>\n      <td>-80.6048</td>\n      <td>Showers and thunderstorms lingering along the ...</td>\n      <td>A waterspout formed in the Atlantic southeast ...</td>\n      <td>{'TotalDamages': 0, 'StartTime': '2007-09-29T0...</td>\n    </tr>\n    <tr>\n      <th>1</th>\n      <td>2007-09-18 20:00:00+00:00</td>\n      <td>2007-09-19 18:00:00+00:00</td>\n      <td>11074</td>\n      <td>60904</td>\n      <td>FLORIDA</td>\n      <td>Heavy Rain</td>\n      <td>0</td>\n      <td>0</td>\n      <td>0</td>\n      <td>0</td>\n      <td>...</td>\n      <td>Trained Spotter</td>\n      <td>ORMOND BEACH</td>\n      <td>NEW SMYRNA BEACH</td>\n      <td>29.2800</td>\n      <td>-81.0500</td>\n      <td>29.0200</td>\n      <td>-80.9300</td>\n      <td>Thunderstorms lingered over Volusia County.</td>\n      <td>As much as 9 inches of rain fell in a 24-hour ...</td>\n      <td>{'TotalDamages': 0, 'StartTime': '2007-09-18T2...</td>\n    </tr>\n    <tr>\n      <th>2</th>\n      <td>2007-09-20 21:57:00+00:00</td>\n      <td>2007-09-20 22:05:00+00:00</td>\n      <td>11078</td>\n      <td>60913</td>\n      <td>FLORIDA</td>\n      <td>Tornado</td>\n      <td>0</td>\n      <td>0</td>\n      <td>0</td>\n      <td>0</td>\n      <td>...</td>\n      <td>NWS Storm Survey</td>\n      <td>EUSTIS</td>\n      <td>EUSTIS</td>\n      <td>28.8368</td>\n      <td>-81.6763</td>\n      <td>28.8628</td>\n      <td>-81.6846</td>\n      <td>As Tropical Depression number 10 began to slow...</td>\n      <td>A tornado touched down in the Town of Eustis a...</td>\n      <td>{'TotalDamages': 6200000, 'StartTime': '2007-0...</td>\n    </tr>\n  </tbody>\n</table>\n<p>3 rows × 22 columns</p>\n</div>"
     },
     "metadata": {},
     "execution_count": 7
    }
   ],
   "source": [
    "%%kql -c {cluster} -d {database}\n",
    "{table} | limit {limit}"
   ]
  },
  {
   "cell_type": "markdown",
   "metadata": {},
   "source": [
    "## Using %kqlset to Set Default Cluster and Database"
   ]
  },
  {
   "cell_type": "code",
   "execution_count": 8,
   "metadata": {
    "tags": []
   },
   "outputs": [],
   "source": [
    "%kqlset -c help -d Samples"
   ]
  },
  {
   "cell_type": "code",
   "execution_count": 9,
   "metadata": {},
   "outputs": [
    {
     "output_type": "execute_result",
     "data": {
      "text/plain": "                  StartTime                   EndTime  EpisodeId  EventId  \\\n0 2007-09-29 08:11:00+00:00 2007-09-29 08:11:00+00:00      11091    61032   \n1 2007-09-18 20:00:00+00:00 2007-09-19 18:00:00+00:00      11074    60904   \n2 2007-09-20 21:57:00+00:00 2007-09-20 22:05:00+00:00      11078    60913   \n3 2007-12-30 16:00:00+00:00 2007-12-30 16:05:00+00:00      11749    64588   \n\n            State          EventType  InjuriesDirect  InjuriesIndirect  \\\n0  ATLANTIC SOUTH         Waterspout               0                 0   \n1         FLORIDA         Heavy Rain               0                 0   \n2         FLORIDA            Tornado               0                 0   \n3         GEORGIA  Thunderstorm Wind               0                 0   \n\n   DeathsDirect  DeathsIndirect  ...            Source    BeginLocation  \\\n0             0               0  ...   Trained Spotter  MELBOURNE BEACH   \n1             0               0  ...   Trained Spotter     ORMOND BEACH   \n2             0               0  ...  NWS Storm Survey           EUSTIS   \n3             0               0  ...   Law Enforcement            LOTTS   \n\n        EndLocation BeginLat BeginLon   EndLat   EndLon  \\\n0   MELBOURNE BEACH  28.0393 -80.6048  28.0393 -80.6048   \n1  NEW SMYRNA BEACH  29.2800 -81.0500  29.0200 -80.9300   \n2            EUSTIS  28.8368 -81.6763  28.8628 -81.6846   \n3             LOTTS  31.5600 -82.8900  31.5600 -82.8900   \n\n                                    EpisodeNarrative  \\\n0  Showers and thunderstorms lingering along the ...   \n1        Thunderstorms lingered over Volusia County.   \n2  As Tropical Depression number 10 began to slow...   \n3  An area of low pressure developed near the cen...   \n\n                                      EventNarrative  \\\n0  A waterspout formed in the Atlantic southeast ...   \n1  As much as 9 inches of rain fell in a 24-hour ...   \n2  A tornado touched down in the Town of Eustis a...   \n3  The county dispatch reported several trees wer...   \n\n                                        StormSummary  \n0  {'TotalDamages': 0, 'StartTime': '2007-09-29T0...  \n1  {'TotalDamages': 0, 'StartTime': '2007-09-18T2...  \n2  {'TotalDamages': 6200000, 'StartTime': '2007-0...  \n3  {'TotalDamages': 2000, 'StartTime': '2007-12-3...  \n\n[4 rows x 22 columns]",
      "text/html": "<div>\n<style scoped>\n    .dataframe tbody tr th:only-of-type {\n        vertical-align: middle;\n    }\n\n    .dataframe tbody tr th {\n        vertical-align: top;\n    }\n\n    .dataframe thead th {\n        text-align: right;\n    }\n</style>\n<table border=\"1\" class=\"dataframe\">\n  <thead>\n    <tr style=\"text-align: right;\">\n      <th></th>\n      <th>StartTime</th>\n      <th>EndTime</th>\n      <th>EpisodeId</th>\n      <th>EventId</th>\n      <th>State</th>\n      <th>EventType</th>\n      <th>InjuriesDirect</th>\n      <th>InjuriesIndirect</th>\n      <th>DeathsDirect</th>\n      <th>DeathsIndirect</th>\n      <th>...</th>\n      <th>Source</th>\n      <th>BeginLocation</th>\n      <th>EndLocation</th>\n      <th>BeginLat</th>\n      <th>BeginLon</th>\n      <th>EndLat</th>\n      <th>EndLon</th>\n      <th>EpisodeNarrative</th>\n      <th>EventNarrative</th>\n      <th>StormSummary</th>\n    </tr>\n  </thead>\n  <tbody>\n    <tr>\n      <th>0</th>\n      <td>2007-09-29 08:11:00+00:00</td>\n      <td>2007-09-29 08:11:00+00:00</td>\n      <td>11091</td>\n      <td>61032</td>\n      <td>ATLANTIC SOUTH</td>\n      <td>Waterspout</td>\n      <td>0</td>\n      <td>0</td>\n      <td>0</td>\n      <td>0</td>\n      <td>...</td>\n      <td>Trained Spotter</td>\n      <td>MELBOURNE BEACH</td>\n      <td>MELBOURNE BEACH</td>\n      <td>28.0393</td>\n      <td>-80.6048</td>\n      <td>28.0393</td>\n      <td>-80.6048</td>\n      <td>Showers and thunderstorms lingering along the ...</td>\n      <td>A waterspout formed in the Atlantic southeast ...</td>\n      <td>{'TotalDamages': 0, 'StartTime': '2007-09-29T0...</td>\n    </tr>\n    <tr>\n      <th>1</th>\n      <td>2007-09-18 20:00:00+00:00</td>\n      <td>2007-09-19 18:00:00+00:00</td>\n      <td>11074</td>\n      <td>60904</td>\n      <td>FLORIDA</td>\n      <td>Heavy Rain</td>\n      <td>0</td>\n      <td>0</td>\n      <td>0</td>\n      <td>0</td>\n      <td>...</td>\n      <td>Trained Spotter</td>\n      <td>ORMOND BEACH</td>\n      <td>NEW SMYRNA BEACH</td>\n      <td>29.2800</td>\n      <td>-81.0500</td>\n      <td>29.0200</td>\n      <td>-80.9300</td>\n      <td>Thunderstorms lingered over Volusia County.</td>\n      <td>As much as 9 inches of rain fell in a 24-hour ...</td>\n      <td>{'TotalDamages': 0, 'StartTime': '2007-09-18T2...</td>\n    </tr>\n    <tr>\n      <th>2</th>\n      <td>2007-09-20 21:57:00+00:00</td>\n      <td>2007-09-20 22:05:00+00:00</td>\n      <td>11078</td>\n      <td>60913</td>\n      <td>FLORIDA</td>\n      <td>Tornado</td>\n      <td>0</td>\n      <td>0</td>\n      <td>0</td>\n      <td>0</td>\n      <td>...</td>\n      <td>NWS Storm Survey</td>\n      <td>EUSTIS</td>\n      <td>EUSTIS</td>\n      <td>28.8368</td>\n      <td>-81.6763</td>\n      <td>28.8628</td>\n      <td>-81.6846</td>\n      <td>As Tropical Depression number 10 began to slow...</td>\n      <td>A tornado touched down in the Town of Eustis a...</td>\n      <td>{'TotalDamages': 6200000, 'StartTime': '2007-0...</td>\n    </tr>\n    <tr>\n      <th>3</th>\n      <td>2007-12-30 16:00:00+00:00</td>\n      <td>2007-12-30 16:05:00+00:00</td>\n      <td>11749</td>\n      <td>64588</td>\n      <td>GEORGIA</td>\n      <td>Thunderstorm Wind</td>\n      <td>0</td>\n      <td>0</td>\n      <td>0</td>\n      <td>0</td>\n      <td>...</td>\n      <td>Law Enforcement</td>\n      <td>LOTTS</td>\n      <td>LOTTS</td>\n      <td>31.5600</td>\n      <td>-82.8900</td>\n      <td>31.5600</td>\n      <td>-82.8900</td>\n      <td>An area of low pressure developed near the cen...</td>\n      <td>The county dispatch reported several trees wer...</td>\n      <td>{'TotalDamages': 2000, 'StartTime': '2007-12-3...</td>\n    </tr>\n  </tbody>\n</table>\n<p>4 rows × 22 columns</p>\n</div>"
     },
     "metadata": {},
     "execution_count": 9
    }
   ],
   "source": [
    "%%kql\n",
    "StormEvents | limit 4"
   ]
  },
  {
   "cell_type": "markdown",
   "metadata": {},
   "source": [
    "# Show Default Variable"
   ]
  },
  {
   "cell_type": "code",
   "execution_count": 10,
   "metadata": {},
   "outputs": [
    {
     "output_type": "execute_result",
     "data": {
      "text/plain": "                  StartTime                   EndTime  EpisodeId  EventId  \\\n0 2007-09-29 08:11:00+00:00 2007-09-29 08:11:00+00:00      11091    61032   \n1 2007-09-18 20:00:00+00:00 2007-09-19 18:00:00+00:00      11074    60904   \n2 2007-09-20 21:57:00+00:00 2007-09-20 22:05:00+00:00      11078    60913   \n3 2007-12-30 16:00:00+00:00 2007-12-30 16:05:00+00:00      11749    64588   \n\n            State          EventType  InjuriesDirect  InjuriesIndirect  \\\n0  ATLANTIC SOUTH         Waterspout               0                 0   \n1         FLORIDA         Heavy Rain               0                 0   \n2         FLORIDA            Tornado               0                 0   \n3         GEORGIA  Thunderstorm Wind               0                 0   \n\n   DeathsDirect  DeathsIndirect  ...            Source    BeginLocation  \\\n0             0               0  ...   Trained Spotter  MELBOURNE BEACH   \n1             0               0  ...   Trained Spotter     ORMOND BEACH   \n2             0               0  ...  NWS Storm Survey           EUSTIS   \n3             0               0  ...   Law Enforcement            LOTTS   \n\n        EndLocation BeginLat BeginLon   EndLat   EndLon  \\\n0   MELBOURNE BEACH  28.0393 -80.6048  28.0393 -80.6048   \n1  NEW SMYRNA BEACH  29.2800 -81.0500  29.0200 -80.9300   \n2            EUSTIS  28.8368 -81.6763  28.8628 -81.6846   \n3             LOTTS  31.5600 -82.8900  31.5600 -82.8900   \n\n                                    EpisodeNarrative  \\\n0  Showers and thunderstorms lingering along the ...   \n1        Thunderstorms lingered over Volusia County.   \n2  As Tropical Depression number 10 began to slow...   \n3  An area of low pressure developed near the cen...   \n\n                                      EventNarrative  \\\n0  A waterspout formed in the Atlantic southeast ...   \n1  As much as 9 inches of rain fell in a 24-hour ...   \n2  A tornado touched down in the Town of Eustis a...   \n3  The county dispatch reported several trees wer...   \n\n                                        StormSummary  \n0  {'TotalDamages': 0, 'StartTime': '2007-09-29T0...  \n1  {'TotalDamages': 0, 'StartTime': '2007-09-18T2...  \n2  {'TotalDamages': 6200000, 'StartTime': '2007-0...  \n3  {'TotalDamages': 2000, 'StartTime': '2007-12-3...  \n\n[4 rows x 22 columns]",
      "text/html": "<div>\n<style scoped>\n    .dataframe tbody tr th:only-of-type {\n        vertical-align: middle;\n    }\n\n    .dataframe tbody tr th {\n        vertical-align: top;\n    }\n\n    .dataframe thead th {\n        text-align: right;\n    }\n</style>\n<table border=\"1\" class=\"dataframe\">\n  <thead>\n    <tr style=\"text-align: right;\">\n      <th></th>\n      <th>StartTime</th>\n      <th>EndTime</th>\n      <th>EpisodeId</th>\n      <th>EventId</th>\n      <th>State</th>\n      <th>EventType</th>\n      <th>InjuriesDirect</th>\n      <th>InjuriesIndirect</th>\n      <th>DeathsDirect</th>\n      <th>DeathsIndirect</th>\n      <th>...</th>\n      <th>Source</th>\n      <th>BeginLocation</th>\n      <th>EndLocation</th>\n      <th>BeginLat</th>\n      <th>BeginLon</th>\n      <th>EndLat</th>\n      <th>EndLon</th>\n      <th>EpisodeNarrative</th>\n      <th>EventNarrative</th>\n      <th>StormSummary</th>\n    </tr>\n  </thead>\n  <tbody>\n    <tr>\n      <th>0</th>\n      <td>2007-09-29 08:11:00+00:00</td>\n      <td>2007-09-29 08:11:00+00:00</td>\n      <td>11091</td>\n      <td>61032</td>\n      <td>ATLANTIC SOUTH</td>\n      <td>Waterspout</td>\n      <td>0</td>\n      <td>0</td>\n      <td>0</td>\n      <td>0</td>\n      <td>...</td>\n      <td>Trained Spotter</td>\n      <td>MELBOURNE BEACH</td>\n      <td>MELBOURNE BEACH</td>\n      <td>28.0393</td>\n      <td>-80.6048</td>\n      <td>28.0393</td>\n      <td>-80.6048</td>\n      <td>Showers and thunderstorms lingering along the ...</td>\n      <td>A waterspout formed in the Atlantic southeast ...</td>\n      <td>{'TotalDamages': 0, 'StartTime': '2007-09-29T0...</td>\n    </tr>\n    <tr>\n      <th>1</th>\n      <td>2007-09-18 20:00:00+00:00</td>\n      <td>2007-09-19 18:00:00+00:00</td>\n      <td>11074</td>\n      <td>60904</td>\n      <td>FLORIDA</td>\n      <td>Heavy Rain</td>\n      <td>0</td>\n      <td>0</td>\n      <td>0</td>\n      <td>0</td>\n      <td>...</td>\n      <td>Trained Spotter</td>\n      <td>ORMOND BEACH</td>\n      <td>NEW SMYRNA BEACH</td>\n      <td>29.2800</td>\n      <td>-81.0500</td>\n      <td>29.0200</td>\n      <td>-80.9300</td>\n      <td>Thunderstorms lingered over Volusia County.</td>\n      <td>As much as 9 inches of rain fell in a 24-hour ...</td>\n      <td>{'TotalDamages': 0, 'StartTime': '2007-09-18T2...</td>\n    </tr>\n    <tr>\n      <th>2</th>\n      <td>2007-09-20 21:57:00+00:00</td>\n      <td>2007-09-20 22:05:00+00:00</td>\n      <td>11078</td>\n      <td>60913</td>\n      <td>FLORIDA</td>\n      <td>Tornado</td>\n      <td>0</td>\n      <td>0</td>\n      <td>0</td>\n      <td>0</td>\n      <td>...</td>\n      <td>NWS Storm Survey</td>\n      <td>EUSTIS</td>\n      <td>EUSTIS</td>\n      <td>28.8368</td>\n      <td>-81.6763</td>\n      <td>28.8628</td>\n      <td>-81.6846</td>\n      <td>As Tropical Depression number 10 began to slow...</td>\n      <td>A tornado touched down in the Town of Eustis a...</td>\n      <td>{'TotalDamages': 6200000, 'StartTime': '2007-0...</td>\n    </tr>\n    <tr>\n      <th>3</th>\n      <td>2007-12-30 16:00:00+00:00</td>\n      <td>2007-12-30 16:05:00+00:00</td>\n      <td>11749</td>\n      <td>64588</td>\n      <td>GEORGIA</td>\n      <td>Thunderstorm Wind</td>\n      <td>0</td>\n      <td>0</td>\n      <td>0</td>\n      <td>0</td>\n      <td>...</td>\n      <td>Law Enforcement</td>\n      <td>LOTTS</td>\n      <td>LOTTS</td>\n      <td>31.5600</td>\n      <td>-82.8900</td>\n      <td>31.5600</td>\n      <td>-82.8900</td>\n      <td>An area of low pressure developed near the cen...</td>\n      <td>The county dispatch reported several trees wer...</td>\n      <td>{'TotalDamages': 2000, 'StartTime': '2007-12-3...</td>\n    </tr>\n  </tbody>\n</table>\n<p>4 rows × 22 columns</p>\n</div>"
     },
     "metadata": {},
     "execution_count": 10
    }
   ],
   "source": [
    "kqlresult"
   ]
  },
  {
   "cell_type": "code",
   "execution_count": null,
   "metadata": {},
   "outputs": [],
   "source": []
  }
 ]
}