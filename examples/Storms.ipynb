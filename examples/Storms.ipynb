{
 "metadata": {
  "language_info": {
   "codemirror_mode": {
    "name": "ipython",
    "version": 3
   },
   "file_extension": ".py",
   "mimetype": "text/x-python",
   "name": "python",
   "nbconvert_exporter": "python",
   "pygments_lexer": "ipython3",
   "version": "3.8.5-final"
  },
  "orig_nbformat": 2,
  "kernelspec": {
   "name": "python_defaultSpec_1597979057074",
   "display_name": "Python 3.8.5 64-bit ('.venv': venv)"
  }
 },
 "nbformat": 4,
 "nbformat_minor": 2,
 "cells": [
  {
   "cell_type": "markdown",
   "metadata": {},
   "source": [
    "# Examples of Use\n",
    "\n",
    "First load the extension."
   ]
  },
  {
   "cell_type": "code",
   "execution_count": 1,
   "metadata": {},
   "outputs": [],
   "source": [
    "%load_ext kusto"
   ]
  },
  {
   "cell_type": "markdown",
   "metadata": {},
   "source": [
    "## Show Help"
   ]
  },
  {
   "cell_type": "code",
   "execution_count": 2,
   "metadata": {
    "tags": []
   },
   "outputs": [
    {
     "output_type": "stream",
     "text": "\u001b[0;31mDocstring:\u001b[0m\n::\n\n  %configure [-c CLUSTER] [-d DATABASE]\n\n Set the default Kusto cluster and/or database. This overrides\nwhat is in the extension configuration, but can in turn be overriden\nper query by the %kql magic.\n\noptional arguments:\n  -c CLUSTER, --cluster CLUSTER\n                        specify default cluster\n  -d DATABASE, --database DATABASE\n                        specify default database\n\u001b[0;31mFile:\u001b[0m      ~/repos/ipython-kusto/.venv/lib/python3.8/site-packages/ipython_kusto-0.0.5-py3.8.egg/kusto/magic.py\n"
    }
   ],
   "source": [
    "%kqlset?"
   ]
  },
  {
   "cell_type": "code",
   "execution_count": 3,
   "metadata": {},
   "outputs": [
    {
     "output_type": "stream",
     "text": "\u001b[0;31mDocstring:\u001b[0m\n::\n\n  %execute [-c CLUSTER] [-d DATABASE] [-f FILE] [-s SET] [-n] [-q] [-e]\n               [line [line ...]]\n\nRuns KQL statement against a database in a cluster.\nIf necessary, an attempt will be made to log in to Azure first.\nThe result is returned as a Pandas DataFrame and assigned to a \nPython variable (by default named kqlresult, unless overridden by --set).\n\npositional arguments:\n  line                  kql query\n\noptional arguments:\n  -c CLUSTER, --cluster CLUSTER\n                        specify cluster\n  -d DATABASE, --database DATABASE\n                        specify database\n  -f FILE, --file FILE  Run KQL from file at this path\n  -s SET, --set SET     name of Python variable to assign result to\n  -n, --noexpand        Don't do variable expansion of {id}s\n  -q, --quiet           Don't display dataframe\n  -e, --error           Display raw Kusto error\n\u001b[0;31mFile:\u001b[0m      ~/repos/ipython-kusto/.venv/lib/python3.8/site-packages/ipython_kusto-0.0.5-py3.8.egg/kusto/magic.py\n"
    }
   ],
   "source": [
    "%kql?"
   ]
  },
  {
   "cell_type": "markdown",
   "metadata": {},
   "source": [
    "## Run a Query and set a Variable\n",
    "\n",
    "Note: if necessary you will be redirected to a browser page to select your account and log in. "
   ]
  },
  {
   "cell_type": "code",
   "execution_count": 4,
   "metadata": {
    "tags": []
   },
   "outputs": [
    {
     "output_type": "execute_result",
     "data": {
      "text/plain": "                  StartTime                   EndTime  EpisodeId  EventId  \\\n0 2007-09-29 08:11:00+00:00 2007-09-29 08:11:00+00:00      11091    61032   \n1 2007-09-18 20:00:00+00:00 2007-09-19 18:00:00+00:00      11074    60904   \n2 2007-09-20 21:57:00+00:00 2007-09-20 22:05:00+00:00      11078    60913   \n3 2007-12-30 16:00:00+00:00 2007-12-30 16:05:00+00:00      11749    64588   \n4 2007-12-20 07:50:00+00:00 2007-12-20 07:53:00+00:00      12554    68796   \n\n            State          EventType  InjuriesDirect  InjuriesIndirect  \\\n0  ATLANTIC SOUTH         Waterspout               0                 0   \n1         FLORIDA         Heavy Rain               0                 0   \n2         FLORIDA            Tornado               0                 0   \n3         GEORGIA  Thunderstorm Wind               0                 0   \n4     MISSISSIPPI  Thunderstorm Wind               0                 0   \n\n   DeathsDirect  DeathsIndirect  ...             Source    BeginLocation  \\\n0             0               0  ...    Trained Spotter  MELBOURNE BEACH   \n1             0               0  ...    Trained Spotter     ORMOND BEACH   \n2             0               0  ...   NWS Storm Survey           EUSTIS   \n3             0               0  ...    Law Enforcement            LOTTS   \n4             0               0  ...  Emergency Manager        CRANFIELD   \n\n        EndLocation BeginLat BeginLon   EndLat   EndLon  \\\n0   MELBOURNE BEACH  28.0393 -80.6048  28.0393 -80.6048   \n1  NEW SMYRNA BEACH  29.2800 -81.0500  29.0200 -80.9300   \n2            EUSTIS  28.8368 -81.6763  28.8628 -81.6846   \n3             LOTTS  31.5600 -82.8900  31.5600 -82.8900   \n4          LEESDALE  31.5400 -91.2100  31.5452 -91.1948   \n\n                                    EpisodeNarrative  \\\n0  Showers and thunderstorms lingering along the ...   \n1        Thunderstorms lingered over Volusia County.   \n2  As Tropical Depression number 10 began to slow...   \n3  An area of low pressure developed near the cen...   \n4  A small, but potent, storm system evolved and ...   \n\n                                      EventNarrative  \\\n0  A waterspout formed in the Atlantic southeast ...   \n1  As much as 9 inches of rain fell in a 24-hour ...   \n2  A tornado touched down in the Town of Eustis a...   \n3  The county dispatch reported several trees wer...   \n4  Numerous large trees were blown down with some...   \n\n                                        StormSummary  \n0  {'TotalDamages': 0, 'StartTime': '2007-09-29T0...  \n1  {'TotalDamages': 0, 'StartTime': '2007-09-18T2...  \n2  {'TotalDamages': 6200000, 'StartTime': '2007-0...  \n3  {'TotalDamages': 2000, 'StartTime': '2007-12-3...  \n4  {'TotalDamages': 20000, 'StartTime': '2007-12-...  \n\n[5 rows x 22 columns]",
      "text/html": "<div>\n<style scoped>\n    .dataframe tbody tr th:only-of-type {\n        vertical-align: middle;\n    }\n\n    .dataframe tbody tr th {\n        vertical-align: top;\n    }\n\n    .dataframe thead th {\n        text-align: right;\n    }\n</style>\n<table border=\"1\" class=\"dataframe\">\n  <thead>\n    <tr style=\"text-align: right;\">\n      <th></th>\n      <th>StartTime</th>\n      <th>EndTime</th>\n      <th>EpisodeId</th>\n      <th>EventId</th>\n      <th>State</th>\n      <th>EventType</th>\n      <th>InjuriesDirect</th>\n      <th>InjuriesIndirect</th>\n      <th>DeathsDirect</th>\n      <th>DeathsIndirect</th>\n      <th>...</th>\n      <th>Source</th>\n      <th>BeginLocation</th>\n      <th>EndLocation</th>\n      <th>BeginLat</th>\n      <th>BeginLon</th>\n      <th>EndLat</th>\n      <th>EndLon</th>\n      <th>EpisodeNarrative</th>\n      <th>EventNarrative</th>\n      <th>StormSummary</th>\n    </tr>\n  </thead>\n  <tbody>\n    <tr>\n      <th>0</th>\n      <td>2007-09-29 08:11:00+00:00</td>\n      <td>2007-09-29 08:11:00+00:00</td>\n      <td>11091</td>\n      <td>61032</td>\n      <td>ATLANTIC SOUTH</td>\n      <td>Waterspout</td>\n      <td>0</td>\n      <td>0</td>\n      <td>0</td>\n      <td>0</td>\n      <td>...</td>\n      <td>Trained Spotter</td>\n      <td>MELBOURNE BEACH</td>\n      <td>MELBOURNE BEACH</td>\n      <td>28.0393</td>\n      <td>-80.6048</td>\n      <td>28.0393</td>\n      <td>-80.6048</td>\n      <td>Showers and thunderstorms lingering along the ...</td>\n      <td>A waterspout formed in the Atlantic southeast ...</td>\n      <td>{'TotalDamages': 0, 'StartTime': '2007-09-29T0...</td>\n    </tr>\n    <tr>\n      <th>1</th>\n      <td>2007-09-18 20:00:00+00:00</td>\n      <td>2007-09-19 18:00:00+00:00</td>\n      <td>11074</td>\n      <td>60904</td>\n      <td>FLORIDA</td>\n      <td>Heavy Rain</td>\n      <td>0</td>\n      <td>0</td>\n      <td>0</td>\n      <td>0</td>\n      <td>...</td>\n      <td>Trained Spotter</td>\n      <td>ORMOND BEACH</td>\n      <td>NEW SMYRNA BEACH</td>\n      <td>29.2800</td>\n      <td>-81.0500</td>\n      <td>29.0200</td>\n      <td>-80.9300</td>\n      <td>Thunderstorms lingered over Volusia County.</td>\n      <td>As much as 9 inches of rain fell in a 24-hour ...</td>\n      <td>{'TotalDamages': 0, 'StartTime': '2007-09-18T2...</td>\n    </tr>\n    <tr>\n      <th>2</th>\n      <td>2007-09-20 21:57:00+00:00</td>\n      <td>2007-09-20 22:05:00+00:00</td>\n      <td>11078</td>\n      <td>60913</td>\n      <td>FLORIDA</td>\n      <td>Tornado</td>\n      <td>0</td>\n      <td>0</td>\n      <td>0</td>\n      <td>0</td>\n      <td>...</td>\n      <td>NWS Storm Survey</td>\n      <td>EUSTIS</td>\n      <td>EUSTIS</td>\n      <td>28.8368</td>\n      <td>-81.6763</td>\n      <td>28.8628</td>\n      <td>-81.6846</td>\n      <td>As Tropical Depression number 10 began to slow...</td>\n      <td>A tornado touched down in the Town of Eustis a...</td>\n      <td>{'TotalDamages': 6200000, 'StartTime': '2007-0...</td>\n    </tr>\n    <tr>\n      <th>3</th>\n      <td>2007-12-30 16:00:00+00:00</td>\n      <td>2007-12-30 16:05:00+00:00</td>\n      <td>11749</td>\n      <td>64588</td>\n      <td>GEORGIA</td>\n      <td>Thunderstorm Wind</td>\n      <td>0</td>\n      <td>0</td>\n      <td>0</td>\n      <td>0</td>\n      <td>...</td>\n      <td>Law Enforcement</td>\n      <td>LOTTS</td>\n      <td>LOTTS</td>\n      <td>31.5600</td>\n      <td>-82.8900</td>\n      <td>31.5600</td>\n      <td>-82.8900</td>\n      <td>An area of low pressure developed near the cen...</td>\n      <td>The county dispatch reported several trees wer...</td>\n      <td>{'TotalDamages': 2000, 'StartTime': '2007-12-3...</td>\n    </tr>\n    <tr>\n      <th>4</th>\n      <td>2007-12-20 07:50:00+00:00</td>\n      <td>2007-12-20 07:53:00+00:00</td>\n      <td>12554</td>\n      <td>68796</td>\n      <td>MISSISSIPPI</td>\n      <td>Thunderstorm Wind</td>\n      <td>0</td>\n      <td>0</td>\n      <td>0</td>\n      <td>0</td>\n      <td>...</td>\n      <td>Emergency Manager</td>\n      <td>CRANFIELD</td>\n      <td>LEESDALE</td>\n      <td>31.5400</td>\n      <td>-91.2100</td>\n      <td>31.5452</td>\n      <td>-91.1948</td>\n      <td>A small, but potent, storm system evolved and ...</td>\n      <td>Numerous large trees were blown down with some...</td>\n      <td>{'TotalDamages': 20000, 'StartTime': '2007-12-...</td>\n    </tr>\n  </tbody>\n</table>\n<p>5 rows × 22 columns</p>\n</div>"
     },
     "metadata": {},
     "execution_count": 4
    }
   ],
   "source": [
    "%%kql -c help -d Samples -s df\n",
    "StormEvents | limit 5"
   ]
  },
  {
   "cell_type": "code",
   "execution_count": 5,
   "metadata": {},
   "outputs": [
    {
     "output_type": "execute_result",
     "data": {
      "text/plain": "                  StartTime                   EndTime  EpisodeId  EventId  \\\n0 2007-09-29 08:11:00+00:00 2007-09-29 08:11:00+00:00      11091    61032   \n1 2007-09-18 20:00:00+00:00 2007-09-19 18:00:00+00:00      11074    60904   \n2 2007-09-20 21:57:00+00:00 2007-09-20 22:05:00+00:00      11078    60913   \n3 2007-12-30 16:00:00+00:00 2007-12-30 16:05:00+00:00      11749    64588   \n4 2007-12-20 07:50:00+00:00 2007-12-20 07:53:00+00:00      12554    68796   \n\n            State          EventType  InjuriesDirect  InjuriesIndirect  \\\n0  ATLANTIC SOUTH         Waterspout               0                 0   \n1         FLORIDA         Heavy Rain               0                 0   \n2         FLORIDA            Tornado               0                 0   \n3         GEORGIA  Thunderstorm Wind               0                 0   \n4     MISSISSIPPI  Thunderstorm Wind               0                 0   \n\n   DeathsDirect  DeathsIndirect  ...             Source    BeginLocation  \\\n0             0               0  ...    Trained Spotter  MELBOURNE BEACH   \n1             0               0  ...    Trained Spotter     ORMOND BEACH   \n2             0               0  ...   NWS Storm Survey           EUSTIS   \n3             0               0  ...    Law Enforcement            LOTTS   \n4             0               0  ...  Emergency Manager        CRANFIELD   \n\n        EndLocation BeginLat BeginLon   EndLat   EndLon  \\\n0   MELBOURNE BEACH  28.0393 -80.6048  28.0393 -80.6048   \n1  NEW SMYRNA BEACH  29.2800 -81.0500  29.0200 -80.9300   \n2            EUSTIS  28.8368 -81.6763  28.8628 -81.6846   \n3             LOTTS  31.5600 -82.8900  31.5600 -82.8900   \n4          LEESDALE  31.5400 -91.2100  31.5452 -91.1948   \n\n                                    EpisodeNarrative  \\\n0  Showers and thunderstorms lingering along the ...   \n1        Thunderstorms lingered over Volusia County.   \n2  As Tropical Depression number 10 began to slow...   \n3  An area of low pressure developed near the cen...   \n4  A small, but potent, storm system evolved and ...   \n\n                                      EventNarrative  \\\n0  A waterspout formed in the Atlantic southeast ...   \n1  As much as 9 inches of rain fell in a 24-hour ...   \n2  A tornado touched down in the Town of Eustis a...   \n3  The county dispatch reported several trees wer...   \n4  Numerous large trees were blown down with some...   \n\n                                        StormSummary  \n0  {'TotalDamages': 0, 'StartTime': '2007-09-29T0...  \n1  {'TotalDamages': 0, 'StartTime': '2007-09-18T2...  \n2  {'TotalDamages': 6200000, 'StartTime': '2007-0...  \n3  {'TotalDamages': 2000, 'StartTime': '2007-12-3...  \n4  {'TotalDamages': 20000, 'StartTime': '2007-12-...  \n\n[5 rows x 22 columns]",
      "text/html": "<div>\n<style scoped>\n    .dataframe tbody tr th:only-of-type {\n        vertical-align: middle;\n    }\n\n    .dataframe tbody tr th {\n        vertical-align: top;\n    }\n\n    .dataframe thead th {\n        text-align: right;\n    }\n</style>\n<table border=\"1\" class=\"dataframe\">\n  <thead>\n    <tr style=\"text-align: right;\">\n      <th></th>\n      <th>StartTime</th>\n      <th>EndTime</th>\n      <th>EpisodeId</th>\n      <th>EventId</th>\n      <th>State</th>\n      <th>EventType</th>\n      <th>InjuriesDirect</th>\n      <th>InjuriesIndirect</th>\n      <th>DeathsDirect</th>\n      <th>DeathsIndirect</th>\n      <th>...</th>\n      <th>Source</th>\n      <th>BeginLocation</th>\n      <th>EndLocation</th>\n      <th>BeginLat</th>\n      <th>BeginLon</th>\n      <th>EndLat</th>\n      <th>EndLon</th>\n      <th>EpisodeNarrative</th>\n      <th>EventNarrative</th>\n      <th>StormSummary</th>\n    </tr>\n  </thead>\n  <tbody>\n    <tr>\n      <th>0</th>\n      <td>2007-09-29 08:11:00+00:00</td>\n      <td>2007-09-29 08:11:00+00:00</td>\n      <td>11091</td>\n      <td>61032</td>\n      <td>ATLANTIC SOUTH</td>\n      <td>Waterspout</td>\n      <td>0</td>\n      <td>0</td>\n      <td>0</td>\n      <td>0</td>\n      <td>...</td>\n      <td>Trained Spotter</td>\n      <td>MELBOURNE BEACH</td>\n      <td>MELBOURNE BEACH</td>\n      <td>28.0393</td>\n      <td>-80.6048</td>\n      <td>28.0393</td>\n      <td>-80.6048</td>\n      <td>Showers and thunderstorms lingering along the ...</td>\n      <td>A waterspout formed in the Atlantic southeast ...</td>\n      <td>{'TotalDamages': 0, 'StartTime': '2007-09-29T0...</td>\n    </tr>\n    <tr>\n      <th>1</th>\n      <td>2007-09-18 20:00:00+00:00</td>\n      <td>2007-09-19 18:00:00+00:00</td>\n      <td>11074</td>\n      <td>60904</td>\n      <td>FLORIDA</td>\n      <td>Heavy Rain</td>\n      <td>0</td>\n      <td>0</td>\n      <td>0</td>\n      <td>0</td>\n      <td>...</td>\n      <td>Trained Spotter</td>\n      <td>ORMOND BEACH</td>\n      <td>NEW SMYRNA BEACH</td>\n      <td>29.2800</td>\n      <td>-81.0500</td>\n      <td>29.0200</td>\n      <td>-80.9300</td>\n      <td>Thunderstorms lingered over Volusia County.</td>\n      <td>As much as 9 inches of rain fell in a 24-hour ...</td>\n      <td>{'TotalDamages': 0, 'StartTime': '2007-09-18T2...</td>\n    </tr>\n    <tr>\n      <th>2</th>\n      <td>2007-09-20 21:57:00+00:00</td>\n      <td>2007-09-20 22:05:00+00:00</td>\n      <td>11078</td>\n      <td>60913</td>\n      <td>FLORIDA</td>\n      <td>Tornado</td>\n      <td>0</td>\n      <td>0</td>\n      <td>0</td>\n      <td>0</td>\n      <td>...</td>\n      <td>NWS Storm Survey</td>\n      <td>EUSTIS</td>\n      <td>EUSTIS</td>\n      <td>28.8368</td>\n      <td>-81.6763</td>\n      <td>28.8628</td>\n      <td>-81.6846</td>\n      <td>As Tropical Depression number 10 began to slow...</td>\n      <td>A tornado touched down in the Town of Eustis a...</td>\n      <td>{'TotalDamages': 6200000, 'StartTime': '2007-0...</td>\n    </tr>\n    <tr>\n      <th>3</th>\n      <td>2007-12-30 16:00:00+00:00</td>\n      <td>2007-12-30 16:05:00+00:00</td>\n      <td>11749</td>\n      <td>64588</td>\n      <td>GEORGIA</td>\n      <td>Thunderstorm Wind</td>\n      <td>0</td>\n      <td>0</td>\n      <td>0</td>\n      <td>0</td>\n      <td>...</td>\n      <td>Law Enforcement</td>\n      <td>LOTTS</td>\n      <td>LOTTS</td>\n      <td>31.5600</td>\n      <td>-82.8900</td>\n      <td>31.5600</td>\n      <td>-82.8900</td>\n      <td>An area of low pressure developed near the cen...</td>\n      <td>The county dispatch reported several trees wer...</td>\n      <td>{'TotalDamages': 2000, 'StartTime': '2007-12-3...</td>\n    </tr>\n    <tr>\n      <th>4</th>\n      <td>2007-12-20 07:50:00+00:00</td>\n      <td>2007-12-20 07:53:00+00:00</td>\n      <td>12554</td>\n      <td>68796</td>\n      <td>MISSISSIPPI</td>\n      <td>Thunderstorm Wind</td>\n      <td>0</td>\n      <td>0</td>\n      <td>0</td>\n      <td>0</td>\n      <td>...</td>\n      <td>Emergency Manager</td>\n      <td>CRANFIELD</td>\n      <td>LEESDALE</td>\n      <td>31.5400</td>\n      <td>-91.2100</td>\n      <td>31.5452</td>\n      <td>-91.1948</td>\n      <td>A small, but potent, storm system evolved and ...</td>\n      <td>Numerous large trees were blown down with some...</td>\n      <td>{'TotalDamages': 20000, 'StartTime': '2007-12-...</td>\n    </tr>\n  </tbody>\n</table>\n<p>5 rows × 22 columns</p>\n</div>"
     },
     "metadata": {},
     "execution_count": 5
    }
   ],
   "source": [
    "df"
   ]
  },
  {
   "cell_type": "markdown",
   "metadata": {},
   "source": [
    "## Example showing variable substitution"
   ]
  },
  {
   "cell_type": "code",
   "execution_count": 6,
   "metadata": {},
   "outputs": [],
   "source": [
    "cluster = 'help'\n",
    "database = 'Samples'\n",
    "table = 'StormEvents'\n",
    "limit = 3"
   ]
  },
  {
   "cell_type": "code",
   "execution_count": 7,
   "metadata": {},
   "outputs": [
    {
     "output_type": "execute_result",
     "data": {
      "text/plain": "                  StartTime                   EndTime  EpisodeId  EventId  \\\n0 2007-09-29 08:11:00+00:00 2007-09-29 08:11:00+00:00      11091    61032   \n1 2007-09-18 20:00:00+00:00 2007-09-19 18:00:00+00:00      11074    60904   \n2 2007-09-20 21:57:00+00:00 2007-09-20 22:05:00+00:00      11078    60913   \n\n            State   EventType  InjuriesDirect  InjuriesIndirect  DeathsDirect  \\\n0  ATLANTIC SOUTH  Waterspout               0                 0             0   \n1         FLORIDA  Heavy Rain               0                 0             0   \n2         FLORIDA     Tornado               0                 0             0   \n\n   DeathsIndirect  ...            Source    BeginLocation       EndLocation  \\\n0               0  ...   Trained Spotter  MELBOURNE BEACH   MELBOURNE BEACH   \n1               0  ...   Trained Spotter     ORMOND BEACH  NEW SMYRNA BEACH   \n2               0  ...  NWS Storm Survey           EUSTIS            EUSTIS   \n\n  BeginLat BeginLon   EndLat   EndLon  \\\n0  28.0393 -80.6048  28.0393 -80.6048   \n1  29.2800 -81.0500  29.0200 -80.9300   \n2  28.8368 -81.6763  28.8628 -81.6846   \n\n                                    EpisodeNarrative  \\\n0  Showers and thunderstorms lingering along the ...   \n1        Thunderstorms lingered over Volusia County.   \n2  As Tropical Depression number 10 began to slow...   \n\n                                      EventNarrative  \\\n0  A waterspout formed in the Atlantic southeast ...   \n1  As much as 9 inches of rain fell in a 24-hour ...   \n2  A tornado touched down in the Town of Eustis a...   \n\n                                        StormSummary  \n0  {'TotalDamages': 0, 'StartTime': '2007-09-29T0...  \n1  {'TotalDamages': 0, 'StartTime': '2007-09-18T2...  \n2  {'TotalDamages': 6200000, 'StartTime': '2007-0...  \n\n[3 rows x 22 columns]",
      "text/html": "<div>\n<style scoped>\n    .dataframe tbody tr th:only-of-type {\n        vertical-align: middle;\n    }\n\n    .dataframe tbody tr th {\n        vertical-align: top;\n    }\n\n    .dataframe thead th {\n        text-align: right;\n    }\n</style>\n<table border=\"1\" class=\"dataframe\">\n  <thead>\n    <tr style=\"text-align: right;\">\n      <th></th>\n      <th>StartTime</th>\n      <th>EndTime</th>\n      <th>EpisodeId</th>\n      <th>EventId</th>\n      <th>State</th>\n      <th>EventType</th>\n      <th>InjuriesDirect</th>\n      <th>InjuriesIndirect</th>\n      <th>DeathsDirect</th>\n      <th>DeathsIndirect</th>\n      <th>...</th>\n      <th>Source</th>\n      <th>BeginLocation</th>\n      <th>EndLocation</th>\n      <th>BeginLat</th>\n      <th>BeginLon</th>\n      <th>EndLat</th>\n      <th>EndLon</th>\n      <th>EpisodeNarrative</th>\n      <th>EventNarrative</th>\n      <th>StormSummary</th>\n    </tr>\n  </thead>\n  <tbody>\n    <tr>\n      <th>0</th>\n      <td>2007-09-29 08:11:00+00:00</td>\n      <td>2007-09-29 08:11:00+00:00</td>\n      <td>11091</td>\n      <td>61032</td>\n      <td>ATLANTIC SOUTH</td>\n      <td>Waterspout</td>\n      <td>0</td>\n      <td>0</td>\n      <td>0</td>\n      <td>0</td>\n      <td>...</td>\n      <td>Trained Spotter</td>\n      <td>MELBOURNE BEACH</td>\n      <td>MELBOURNE BEACH</td>\n      <td>28.0393</td>\n      <td>-80.6048</td>\n      <td>28.0393</td>\n      <td>-80.6048</td>\n      <td>Showers and thunderstorms lingering along the ...</td>\n      <td>A waterspout formed in the Atlantic southeast ...</td>\n      <td>{'TotalDamages': 0, 'StartTime': '2007-09-29T0...</td>\n    </tr>\n    <tr>\n      <th>1</th>\n      <td>2007-09-18 20:00:00+00:00</td>\n      <td>2007-09-19 18:00:00+00:00</td>\n      <td>11074</td>\n      <td>60904</td>\n      <td>FLORIDA</td>\n      <td>Heavy Rain</td>\n      <td>0</td>\n      <td>0</td>\n      <td>0</td>\n      <td>0</td>\n      <td>...</td>\n      <td>Trained Spotter</td>\n      <td>ORMOND BEACH</td>\n      <td>NEW SMYRNA BEACH</td>\n      <td>29.2800</td>\n      <td>-81.0500</td>\n      <td>29.0200</td>\n      <td>-80.9300</td>\n      <td>Thunderstorms lingered over Volusia County.</td>\n      <td>As much as 9 inches of rain fell in a 24-hour ...</td>\n      <td>{'TotalDamages': 0, 'StartTime': '2007-09-18T2...</td>\n    </tr>\n    <tr>\n      <th>2</th>\n      <td>2007-09-20 21:57:00+00:00</td>\n      <td>2007-09-20 22:05:00+00:00</td>\n      <td>11078</td>\n      <td>60913</td>\n      <td>FLORIDA</td>\n      <td>Tornado</td>\n      <td>0</td>\n      <td>0</td>\n      <td>0</td>\n      <td>0</td>\n      <td>...</td>\n      <td>NWS Storm Survey</td>\n      <td>EUSTIS</td>\n      <td>EUSTIS</td>\n      <td>28.8368</td>\n      <td>-81.6763</td>\n      <td>28.8628</td>\n      <td>-81.6846</td>\n      <td>As Tropical Depression number 10 began to slow...</td>\n      <td>A tornado touched down in the Town of Eustis a...</td>\n      <td>{'TotalDamages': 6200000, 'StartTime': '2007-0...</td>\n    </tr>\n  </tbody>\n</table>\n<p>3 rows × 22 columns</p>\n</div>"
     },
     "metadata": {},
     "execution_count": 7
    }
   ],
   "source": [
    "%%kql -c {cluster} -d {database}\n",
    "{table} | limit {limit}"
   ]
  },
  {
   "cell_type": "code",
   "execution_count": 8,
   "metadata": {
    "tags": []
   },
   "outputs": [
    {
     "output_type": "execute_result",
     "data": {
      "text/plain": "<IPython.core.display.HTML object>",
      "text/html": "<div style=\"fontfamily='monospace'\">{table} | limit {limit}<br><div style=\"color: red\" >^ Syntax error: Query could not be parsed: SYN0002: A recognition error occurred. [line:position=1:0]. Query: '{table} | limit {limit}'</div><br></div>"
     },
     "metadata": {},
     "execution_count": 8
    }
   ],
   "source": [
    "%%kql -c {cluster} -d {database} --noexpand\n",
    "{table} | limit {limit}"
   ]
  },
  {
   "cell_type": "markdown",
   "metadata": {},
   "source": [
    "## Using %kqlset to Set Default Cluster and Database"
   ]
  },
  {
   "cell_type": "code",
   "execution_count": 9,
   "metadata": {
    "tags": []
   },
   "outputs": [],
   "source": [
    "%kqlset -c help -d Samples"
   ]
  },
  {
   "cell_type": "code",
   "execution_count": 10,
   "metadata": {},
   "outputs": [
    {
     "output_type": "execute_result",
     "data": {
      "text/plain": "                  StartTime                   EndTime  EpisodeId  EventId  \\\n0 2007-09-29 08:11:00+00:00 2007-09-29 08:11:00+00:00      11091    61032   \n1 2007-09-18 20:00:00+00:00 2007-09-19 18:00:00+00:00      11074    60904   \n2 2007-09-20 21:57:00+00:00 2007-09-20 22:05:00+00:00      11078    60913   \n3 2007-12-30 16:00:00+00:00 2007-12-30 16:05:00+00:00      11749    64588   \n\n            State          EventType  InjuriesDirect  InjuriesIndirect  \\\n0  ATLANTIC SOUTH         Waterspout               0                 0   \n1         FLORIDA         Heavy Rain               0                 0   \n2         FLORIDA            Tornado               0                 0   \n3         GEORGIA  Thunderstorm Wind               0                 0   \n\n   DeathsDirect  DeathsIndirect  ...            Source    BeginLocation  \\\n0             0               0  ...   Trained Spotter  MELBOURNE BEACH   \n1             0               0  ...   Trained Spotter     ORMOND BEACH   \n2             0               0  ...  NWS Storm Survey           EUSTIS   \n3             0               0  ...   Law Enforcement            LOTTS   \n\n        EndLocation BeginLat BeginLon   EndLat   EndLon  \\\n0   MELBOURNE BEACH  28.0393 -80.6048  28.0393 -80.6048   \n1  NEW SMYRNA BEACH  29.2800 -81.0500  29.0200 -80.9300   \n2            EUSTIS  28.8368 -81.6763  28.8628 -81.6846   \n3             LOTTS  31.5600 -82.8900  31.5600 -82.8900   \n\n                                    EpisodeNarrative  \\\n0  Showers and thunderstorms lingering along the ...   \n1        Thunderstorms lingered over Volusia County.   \n2  As Tropical Depression number 10 began to slow...   \n3  An area of low pressure developed near the cen...   \n\n                                      EventNarrative  \\\n0  A waterspout formed in the Atlantic southeast ...   \n1  As much as 9 inches of rain fell in a 24-hour ...   \n2  A tornado touched down in the Town of Eustis a...   \n3  The county dispatch reported several trees wer...   \n\n                                        StormSummary  \n0  {'TotalDamages': 0, 'StartTime': '2007-09-29T0...  \n1  {'TotalDamages': 0, 'StartTime': '2007-09-18T2...  \n2  {'TotalDamages': 6200000, 'StartTime': '2007-0...  \n3  {'TotalDamages': 2000, 'StartTime': '2007-12-3...  \n\n[4 rows x 22 columns]",
      "text/html": "<div>\n<style scoped>\n    .dataframe tbody tr th:only-of-type {\n        vertical-align: middle;\n    }\n\n    .dataframe tbody tr th {\n        vertical-align: top;\n    }\n\n    .dataframe thead th {\n        text-align: right;\n    }\n</style>\n<table border=\"1\" class=\"dataframe\">\n  <thead>\n    <tr style=\"text-align: right;\">\n      <th></th>\n      <th>StartTime</th>\n      <th>EndTime</th>\n      <th>EpisodeId</th>\n      <th>EventId</th>\n      <th>State</th>\n      <th>EventType</th>\n      <th>InjuriesDirect</th>\n      <th>InjuriesIndirect</th>\n      <th>DeathsDirect</th>\n      <th>DeathsIndirect</th>\n      <th>...</th>\n      <th>Source</th>\n      <th>BeginLocation</th>\n      <th>EndLocation</th>\n      <th>BeginLat</th>\n      <th>BeginLon</th>\n      <th>EndLat</th>\n      <th>EndLon</th>\n      <th>EpisodeNarrative</th>\n      <th>EventNarrative</th>\n      <th>StormSummary</th>\n    </tr>\n  </thead>\n  <tbody>\n    <tr>\n      <th>0</th>\n      <td>2007-09-29 08:11:00+00:00</td>\n      <td>2007-09-29 08:11:00+00:00</td>\n      <td>11091</td>\n      <td>61032</td>\n      <td>ATLANTIC SOUTH</td>\n      <td>Waterspout</td>\n      <td>0</td>\n      <td>0</td>\n      <td>0</td>\n      <td>0</td>\n      <td>...</td>\n      <td>Trained Spotter</td>\n      <td>MELBOURNE BEACH</td>\n      <td>MELBOURNE BEACH</td>\n      <td>28.0393</td>\n      <td>-80.6048</td>\n      <td>28.0393</td>\n      <td>-80.6048</td>\n      <td>Showers and thunderstorms lingering along the ...</td>\n      <td>A waterspout formed in the Atlantic southeast ...</td>\n      <td>{'TotalDamages': 0, 'StartTime': '2007-09-29T0...</td>\n    </tr>\n    <tr>\n      <th>1</th>\n      <td>2007-09-18 20:00:00+00:00</td>\n      <td>2007-09-19 18:00:00+00:00</td>\n      <td>11074</td>\n      <td>60904</td>\n      <td>FLORIDA</td>\n      <td>Heavy Rain</td>\n      <td>0</td>\n      <td>0</td>\n      <td>0</td>\n      <td>0</td>\n      <td>...</td>\n      <td>Trained Spotter</td>\n      <td>ORMOND BEACH</td>\n      <td>NEW SMYRNA BEACH</td>\n      <td>29.2800</td>\n      <td>-81.0500</td>\n      <td>29.0200</td>\n      <td>-80.9300</td>\n      <td>Thunderstorms lingered over Volusia County.</td>\n      <td>As much as 9 inches of rain fell in a 24-hour ...</td>\n      <td>{'TotalDamages': 0, 'StartTime': '2007-09-18T2...</td>\n    </tr>\n    <tr>\n      <th>2</th>\n      <td>2007-09-20 21:57:00+00:00</td>\n      <td>2007-09-20 22:05:00+00:00</td>\n      <td>11078</td>\n      <td>60913</td>\n      <td>FLORIDA</td>\n      <td>Tornado</td>\n      <td>0</td>\n      <td>0</td>\n      <td>0</td>\n      <td>0</td>\n      <td>...</td>\n      <td>NWS Storm Survey</td>\n      <td>EUSTIS</td>\n      <td>EUSTIS</td>\n      <td>28.8368</td>\n      <td>-81.6763</td>\n      <td>28.8628</td>\n      <td>-81.6846</td>\n      <td>As Tropical Depression number 10 began to slow...</td>\n      <td>A tornado touched down in the Town of Eustis a...</td>\n      <td>{'TotalDamages': 6200000, 'StartTime': '2007-0...</td>\n    </tr>\n    <tr>\n      <th>3</th>\n      <td>2007-12-30 16:00:00+00:00</td>\n      <td>2007-12-30 16:05:00+00:00</td>\n      <td>11749</td>\n      <td>64588</td>\n      <td>GEORGIA</td>\n      <td>Thunderstorm Wind</td>\n      <td>0</td>\n      <td>0</td>\n      <td>0</td>\n      <td>0</td>\n      <td>...</td>\n      <td>Law Enforcement</td>\n      <td>LOTTS</td>\n      <td>LOTTS</td>\n      <td>31.5600</td>\n      <td>-82.8900</td>\n      <td>31.5600</td>\n      <td>-82.8900</td>\n      <td>An area of low pressure developed near the cen...</td>\n      <td>The county dispatch reported several trees wer...</td>\n      <td>{'TotalDamages': 2000, 'StartTime': '2007-12-3...</td>\n    </tr>\n  </tbody>\n</table>\n<p>4 rows × 22 columns</p>\n</div>"
     },
     "metadata": {},
     "execution_count": 10
    }
   ],
   "source": [
    "%%kql\n",
    "StormEvents | limit 4"
   ]
  },
  {
   "cell_type": "markdown",
   "metadata": {},
   "source": [
    "# Show Default Variable"
   ]
  },
  {
   "cell_type": "code",
   "execution_count": 11,
   "metadata": {},
   "outputs": [
    {
     "output_type": "execute_result",
     "data": {
      "text/plain": "                  StartTime                   EndTime  EpisodeId  EventId  \\\n0 2007-09-29 08:11:00+00:00 2007-09-29 08:11:00+00:00      11091    61032   \n1 2007-09-18 20:00:00+00:00 2007-09-19 18:00:00+00:00      11074    60904   \n2 2007-09-20 21:57:00+00:00 2007-09-20 22:05:00+00:00      11078    60913   \n3 2007-12-30 16:00:00+00:00 2007-12-30 16:05:00+00:00      11749    64588   \n\n            State          EventType  InjuriesDirect  InjuriesIndirect  \\\n0  ATLANTIC SOUTH         Waterspout               0                 0   \n1         FLORIDA         Heavy Rain               0                 0   \n2         FLORIDA            Tornado               0                 0   \n3         GEORGIA  Thunderstorm Wind               0                 0   \n\n   DeathsDirect  DeathsIndirect  ...            Source    BeginLocation  \\\n0             0               0  ...   Trained Spotter  MELBOURNE BEACH   \n1             0               0  ...   Trained Spotter     ORMOND BEACH   \n2             0               0  ...  NWS Storm Survey           EUSTIS   \n3             0               0  ...   Law Enforcement            LOTTS   \n\n        EndLocation BeginLat BeginLon   EndLat   EndLon  \\\n0   MELBOURNE BEACH  28.0393 -80.6048  28.0393 -80.6048   \n1  NEW SMYRNA BEACH  29.2800 -81.0500  29.0200 -80.9300   \n2            EUSTIS  28.8368 -81.6763  28.8628 -81.6846   \n3             LOTTS  31.5600 -82.8900  31.5600 -82.8900   \n\n                                    EpisodeNarrative  \\\n0  Showers and thunderstorms lingering along the ...   \n1        Thunderstorms lingered over Volusia County.   \n2  As Tropical Depression number 10 began to slow...   \n3  An area of low pressure developed near the cen...   \n\n                                      EventNarrative  \\\n0  A waterspout formed in the Atlantic southeast ...   \n1  As much as 9 inches of rain fell in a 24-hour ...   \n2  A tornado touched down in the Town of Eustis a...   \n3  The county dispatch reported several trees wer...   \n\n                                        StormSummary  \n0  {'TotalDamages': 0, 'StartTime': '2007-09-29T0...  \n1  {'TotalDamages': 0, 'StartTime': '2007-09-18T2...  \n2  {'TotalDamages': 6200000, 'StartTime': '2007-0...  \n3  {'TotalDamages': 2000, 'StartTime': '2007-12-3...  \n\n[4 rows x 22 columns]",
      "text/html": "<div>\n<style scoped>\n    .dataframe tbody tr th:only-of-type {\n        vertical-align: middle;\n    }\n\n    .dataframe tbody tr th {\n        vertical-align: top;\n    }\n\n    .dataframe thead th {\n        text-align: right;\n    }\n</style>\n<table border=\"1\" class=\"dataframe\">\n  <thead>\n    <tr style=\"text-align: right;\">\n      <th></th>\n      <th>StartTime</th>\n      <th>EndTime</th>\n      <th>EpisodeId</th>\n      <th>EventId</th>\n      <th>State</th>\n      <th>EventType</th>\n      <th>InjuriesDirect</th>\n      <th>InjuriesIndirect</th>\n      <th>DeathsDirect</th>\n      <th>DeathsIndirect</th>\n      <th>...</th>\n      <th>Source</th>\n      <th>BeginLocation</th>\n      <th>EndLocation</th>\n      <th>BeginLat</th>\n      <th>BeginLon</th>\n      <th>EndLat</th>\n      <th>EndLon</th>\n      <th>EpisodeNarrative</th>\n      <th>EventNarrative</th>\n      <th>StormSummary</th>\n    </tr>\n  </thead>\n  <tbody>\n    <tr>\n      <th>0</th>\n      <td>2007-09-29 08:11:00+00:00</td>\n      <td>2007-09-29 08:11:00+00:00</td>\n      <td>11091</td>\n      <td>61032</td>\n      <td>ATLANTIC SOUTH</td>\n      <td>Waterspout</td>\n      <td>0</td>\n      <td>0</td>\n      <td>0</td>\n      <td>0</td>\n      <td>...</td>\n      <td>Trained Spotter</td>\n      <td>MELBOURNE BEACH</td>\n      <td>MELBOURNE BEACH</td>\n      <td>28.0393</td>\n      <td>-80.6048</td>\n      <td>28.0393</td>\n      <td>-80.6048</td>\n      <td>Showers and thunderstorms lingering along the ...</td>\n      <td>A waterspout formed in the Atlantic southeast ...</td>\n      <td>{'TotalDamages': 0, 'StartTime': '2007-09-29T0...</td>\n    </tr>\n    <tr>\n      <th>1</th>\n      <td>2007-09-18 20:00:00+00:00</td>\n      <td>2007-09-19 18:00:00+00:00</td>\n      <td>11074</td>\n      <td>60904</td>\n      <td>FLORIDA</td>\n      <td>Heavy Rain</td>\n      <td>0</td>\n      <td>0</td>\n      <td>0</td>\n      <td>0</td>\n      <td>...</td>\n      <td>Trained Spotter</td>\n      <td>ORMOND BEACH</td>\n      <td>NEW SMYRNA BEACH</td>\n      <td>29.2800</td>\n      <td>-81.0500</td>\n      <td>29.0200</td>\n      <td>-80.9300</td>\n      <td>Thunderstorms lingered over Volusia County.</td>\n      <td>As much as 9 inches of rain fell in a 24-hour ...</td>\n      <td>{'TotalDamages': 0, 'StartTime': '2007-09-18T2...</td>\n    </tr>\n    <tr>\n      <th>2</th>\n      <td>2007-09-20 21:57:00+00:00</td>\n      <td>2007-09-20 22:05:00+00:00</td>\n      <td>11078</td>\n      <td>60913</td>\n      <td>FLORIDA</td>\n      <td>Tornado</td>\n      <td>0</td>\n      <td>0</td>\n      <td>0</td>\n      <td>0</td>\n      <td>...</td>\n      <td>NWS Storm Survey</td>\n      <td>EUSTIS</td>\n      <td>EUSTIS</td>\n      <td>28.8368</td>\n      <td>-81.6763</td>\n      <td>28.8628</td>\n      <td>-81.6846</td>\n      <td>As Tropical Depression number 10 began to slow...</td>\n      <td>A tornado touched down in the Town of Eustis a...</td>\n      <td>{'TotalDamages': 6200000, 'StartTime': '2007-0...</td>\n    </tr>\n    <tr>\n      <th>3</th>\n      <td>2007-12-30 16:00:00+00:00</td>\n      <td>2007-12-30 16:05:00+00:00</td>\n      <td>11749</td>\n      <td>64588</td>\n      <td>GEORGIA</td>\n      <td>Thunderstorm Wind</td>\n      <td>0</td>\n      <td>0</td>\n      <td>0</td>\n      <td>0</td>\n      <td>...</td>\n      <td>Law Enforcement</td>\n      <td>LOTTS</td>\n      <td>LOTTS</td>\n      <td>31.5600</td>\n      <td>-82.8900</td>\n      <td>31.5600</td>\n      <td>-82.8900</td>\n      <td>An area of low pressure developed near the cen...</td>\n      <td>The county dispatch reported several trees wer...</td>\n      <td>{'TotalDamages': 2000, 'StartTime': '2007-12-3...</td>\n    </tr>\n  </tbody>\n</table>\n<p>4 rows × 22 columns</p>\n</div>"
     },
     "metadata": {},
     "execution_count": 11
    }
   ],
   "source": [
    "kqlresult"
   ]
  },
  {
   "cell_type": "markdown",
   "metadata": {},
   "source": [
    "## Test Invalid Queries"
   ]
  },
  {
   "cell_type": "code",
   "execution_count": 12,
   "metadata": {},
   "outputs": [
    {
     "output_type": "execute_result",
     "data": {
      "text/plain": "\"Semantic error: 'StormEventz | limit 4' has the following semantic error: SEM0100: 'take' operator: Failed to resolve table or column expression named 'StormEventz'.\""
     },
     "metadata": {},
     "execution_count": 12
    }
   ],
   "source": [
    "%%kql\n",
    "StormEventz | limit 4"
   ]
  },
  {
   "cell_type": "code",
   "execution_count": 13,
   "metadata": {},
   "outputs": [
    {
     "output_type": "execute_result",
     "data": {
      "text/plain": "<IPython.core.display.HTML object>",
      "text/html": "<div style=\"fontfamily='monospace'\">StormEvents<br>| where EventType == 'Waterspout' | limt 3<br><div style=\"color: red\" >&nbsp;&nbsp;&nbsp;&nbsp;&nbsp;&nbsp;&nbsp;&nbsp;&nbsp;&nbsp;&nbsp;&nbsp;&nbsp;&nbsp;&nbsp;&nbsp;&nbsp;&nbsp;&nbsp;&nbsp;&nbsp;&nbsp;&nbsp;&nbsp;&nbsp;&nbsp;&nbsp;&nbsp;&nbsp;&nbsp;&nbsp;&nbsp;&nbsp;&nbsp;&nbsp;^ Syntax error: Query could not be parsed: SYN0002: A recognition error occurred. [line:position=2:36]. Query: 'StormEvents\n| where EventType == 'Waterspout' | limt 3'</div><br></div>"
     },
     "metadata": {},
     "execution_count": 13
    }
   ],
   "source": [
    "%%kql\n",
    "StormEvents\n",
    "| where EventType == 'Waterspout' | limt 3"
   ]
  },
  {
   "cell_type": "code",
   "execution_count": 14,
   "metadata": {
    "tags": []
   },
   "outputs": [
    {
     "output_type": "error",
     "ename": "KustoServiceError",
     "evalue": "[{'error': {'code': 'General_BadRequest', 'message': 'Request is invalid and cannot be executed.', '@type': 'Kusto.Data.Exceptions.KustoBadRequestException', '@message': \"Semantic error: 'StormEventz | limit 4' has the following semantic error: SEM0100: 'take' operator: Failed to resolve table or column expression named 'StormEventz'.\", '@context': {'timestamp': '2020-08-21T21:05:47.4008891Z', 'serviceAlias': 'HELP', 'machineName': 'KEngine000000', 'processName': 'Kusto.WinSvc.Svc', 'processId': 4684, 'threadId': 11984, 'appDomainName': 'Kusto.WinSvc.Svc.exe', 'clientRequestId': 'KPC.execute;9b42b9d3-388c-4051-b478-d8cfe4a7a949', 'activityId': '34eea8f5-77fd-4871-9c59-add3dbe51d66', 'subActivityId': '4b09edfb-0a50-43c6-9ffc-145943734d7d', 'activityType': 'DN.FE.ExecuteQuery', 'parentActivityId': '288122e7-aaa3-412d-a390-dfb963ce6aaa', 'activityStack': '(Activity stack: CRID=KPC.execute;9b42b9d3-388c-4051-b478-d8cfe4a7a949 ARID=34eea8f5-77fd-4871-9c59-add3dbe51d66 > KD.Query.Client.ExecuteQueryAsKustoDataStream/802cff4e-bb83-4535-a8c9-909189f6e712 > P.WCF.Service.ExecuteQueryInternalAsKustoDataStream..IClientServiceCommunicationContract/288122e7-aaa3-412d-a390-dfb963ce6aaa > DN.FE.ExecuteQuery/4b09edfb-0a50-43c6-9ffc-145943734d7d)'}, '@permanent': True, '@text': 'StormEventz | limit 4', '@database': 'Samples', '@ClientRequestLogger': '', 'innererror': {'code': 'SEM0100', 'message': \"'take' operator: Failed to resolve table or column expression named 'StormEventz'\", '@type': 'Kusto.Data.Exceptions.SemanticException', '@message': \"Semantic error: 'StormEventz | limit 4' has the following semantic error: SEM0100: 'take' operator: Failed to resolve table or column expression named 'StormEventz'.\", '@context': {'timestamp': '2020-08-21T21:05:47.4008891Z', 'serviceAlias': 'HELP', 'machineName': 'KEngine000000', 'processName': 'Kusto.WinSvc.Svc', 'processId': 4684, 'threadId': 11984, 'appDomainName': 'Kusto.WinSvc.Svc.exe', 'clientRequestId': 'KPC.execute;9b42b9d3-388c-4051-b478-d8cfe4a7a949', 'activityId': '34eea8f5-77fd-4871-9c59-add3dbe51d66', 'subActivityId': '4b09edfb-0a50-43c6-9ffc-145943734d7d', 'activityType': 'DN.FE.ExecuteQuery', 'parentActivityId': '288122e7-aaa3-412d-a390-dfb963ce6aaa', 'activityStack': '(Activity stack: CRID=KPC.execute;9b42b9d3-388c-4051-b478-d8cfe4a7a949 ARID=34eea8f5-77fd-4871-9c59-add3dbe51d66 > KD.Query.Client.ExecuteQueryAsKustoDataStream/802cff4e-bb83-4535-a8c9-909189f6e712 > P.WCF.Service.ExecuteQueryInternalAsKustoDataStream..IClientServiceCommunicationContract/288122e7-aaa3-412d-a390-dfb963ce6aaa > DN.FE.ExecuteQuery/4b09edfb-0a50-43c6-9ffc-145943734d7d)'}, '@permanent': True, '@errorCode': 'SEM0100', '@errorMessage': \"'take' operator: Failed to resolve table or column expression named 'StormEventz'\"}}}]",
     "traceback": [
      "\u001b[0;31m---------------------------------------------------------------------------\u001b[0m",
      "\u001b[0;31mKustoServiceError\u001b[0m                         Traceback (most recent call last)",
      "\u001b[0;32m<ipython-input-14-c15a04b5d284>\u001b[0m in \u001b[0;36m<module>\u001b[0;34m\u001b[0m\n\u001b[0;32m----> 1\u001b[0;31m \u001b[0mget_ipython\u001b[0m\u001b[0;34m(\u001b[0m\u001b[0;34m)\u001b[0m\u001b[0;34m.\u001b[0m\u001b[0mrun_cell_magic\u001b[0m\u001b[0;34m(\u001b[0m\u001b[0;34m'kql'\u001b[0m\u001b[0;34m,\u001b[0m \u001b[0;34m'--error'\u001b[0m\u001b[0;34m,\u001b[0m \u001b[0;34m'StormEventz | limit 4\\n'\u001b[0m\u001b[0;34m)\u001b[0m\u001b[0;34m\u001b[0m\u001b[0;34m\u001b[0m\u001b[0m\n\u001b[0m",
      "\u001b[0;32m~/repos/ipython-kusto/.venv/lib/python3.8/site-packages/IPython/core/interactiveshell.py\u001b[0m in \u001b[0;36mrun_cell_magic\u001b[0;34m(self, magic_name, line, cell)\u001b[0m\n\u001b[1;32m   2379\u001b[0m             \u001b[0;32mwith\u001b[0m \u001b[0mself\u001b[0m\u001b[0;34m.\u001b[0m\u001b[0mbuiltin_trap\u001b[0m\u001b[0;34m:\u001b[0m\u001b[0;34m\u001b[0m\u001b[0;34m\u001b[0m\u001b[0m\n\u001b[1;32m   2380\u001b[0m                 \u001b[0margs\u001b[0m \u001b[0;34m=\u001b[0m \u001b[0;34m(\u001b[0m\u001b[0mmagic_arg_s\u001b[0m\u001b[0;34m,\u001b[0m \u001b[0mcell\u001b[0m\u001b[0;34m)\u001b[0m\u001b[0;34m\u001b[0m\u001b[0;34m\u001b[0m\u001b[0m\n\u001b[0;32m-> 2381\u001b[0;31m                 \u001b[0mresult\u001b[0m \u001b[0;34m=\u001b[0m \u001b[0mfn\u001b[0m\u001b[0;34m(\u001b[0m\u001b[0;34m*\u001b[0m\u001b[0margs\u001b[0m\u001b[0;34m,\u001b[0m \u001b[0;34m**\u001b[0m\u001b[0mkwargs\u001b[0m\u001b[0;34m)\u001b[0m\u001b[0;34m\u001b[0m\u001b[0;34m\u001b[0m\u001b[0m\n\u001b[0m\u001b[1;32m   2382\u001b[0m             \u001b[0;32mreturn\u001b[0m \u001b[0mresult\u001b[0m\u001b[0;34m\u001b[0m\u001b[0;34m\u001b[0m\u001b[0m\n\u001b[1;32m   2383\u001b[0m \u001b[0;34m\u001b[0m\u001b[0m\n",
      "\u001b[0;32m<decorator-gen-128>\u001b[0m in \u001b[0;36mexecute\u001b[0;34m(self, line, cell, local_ns)\u001b[0m\n",
      "\u001b[0;32m~/repos/ipython-kusto/.venv/lib/python3.8/site-packages/IPython/core/magic.py\u001b[0m in \u001b[0;36m<lambda>\u001b[0;34m(f, *a, **k)\u001b[0m\n\u001b[1;32m    185\u001b[0m     \u001b[0;31m# but it's overkill for just that one bit of state.\u001b[0m\u001b[0;34m\u001b[0m\u001b[0;34m\u001b[0m\u001b[0;34m\u001b[0m\u001b[0m\n\u001b[1;32m    186\u001b[0m     \u001b[0;32mdef\u001b[0m \u001b[0mmagic_deco\u001b[0m\u001b[0;34m(\u001b[0m\u001b[0marg\u001b[0m\u001b[0;34m)\u001b[0m\u001b[0;34m:\u001b[0m\u001b[0;34m\u001b[0m\u001b[0;34m\u001b[0m\u001b[0m\n\u001b[0;32m--> 187\u001b[0;31m         \u001b[0mcall\u001b[0m \u001b[0;34m=\u001b[0m \u001b[0;32mlambda\u001b[0m \u001b[0mf\u001b[0m\u001b[0;34m,\u001b[0m \u001b[0;34m*\u001b[0m\u001b[0ma\u001b[0m\u001b[0;34m,\u001b[0m \u001b[0;34m**\u001b[0m\u001b[0mk\u001b[0m\u001b[0;34m:\u001b[0m \u001b[0mf\u001b[0m\u001b[0;34m(\u001b[0m\u001b[0;34m*\u001b[0m\u001b[0ma\u001b[0m\u001b[0;34m,\u001b[0m \u001b[0;34m**\u001b[0m\u001b[0mk\u001b[0m\u001b[0;34m)\u001b[0m\u001b[0;34m\u001b[0m\u001b[0;34m\u001b[0m\u001b[0m\n\u001b[0m\u001b[1;32m    188\u001b[0m \u001b[0;34m\u001b[0m\u001b[0m\n\u001b[1;32m    189\u001b[0m         \u001b[0;32mif\u001b[0m \u001b[0mcallable\u001b[0m\u001b[0;34m(\u001b[0m\u001b[0marg\u001b[0m\u001b[0;34m)\u001b[0m\u001b[0;34m:\u001b[0m\u001b[0;34m\u001b[0m\u001b[0;34m\u001b[0m\u001b[0m\n",
      "\u001b[0;32m<decorator-gen-127>\u001b[0m in \u001b[0;36mexecute\u001b[0;34m(self, line, cell, local_ns)\u001b[0m\n",
      "\u001b[0;32m~/repos/ipython-kusto/.venv/lib/python3.8/site-packages/IPython/core/magic.py\u001b[0m in \u001b[0;36m<lambda>\u001b[0;34m(f, *a, **k)\u001b[0m\n\u001b[1;32m    185\u001b[0m     \u001b[0;31m# but it's overkill for just that one bit of state.\u001b[0m\u001b[0;34m\u001b[0m\u001b[0;34m\u001b[0m\u001b[0;34m\u001b[0m\u001b[0m\n\u001b[1;32m    186\u001b[0m     \u001b[0;32mdef\u001b[0m \u001b[0mmagic_deco\u001b[0m\u001b[0;34m(\u001b[0m\u001b[0marg\u001b[0m\u001b[0;34m)\u001b[0m\u001b[0;34m:\u001b[0m\u001b[0;34m\u001b[0m\u001b[0;34m\u001b[0m\u001b[0m\n\u001b[0;32m--> 187\u001b[0;31m         \u001b[0mcall\u001b[0m \u001b[0;34m=\u001b[0m \u001b[0;32mlambda\u001b[0m \u001b[0mf\u001b[0m\u001b[0;34m,\u001b[0m \u001b[0;34m*\u001b[0m\u001b[0ma\u001b[0m\u001b[0;34m,\u001b[0m \u001b[0;34m**\u001b[0m\u001b[0mk\u001b[0m\u001b[0;34m:\u001b[0m \u001b[0mf\u001b[0m\u001b[0;34m(\u001b[0m\u001b[0;34m*\u001b[0m\u001b[0ma\u001b[0m\u001b[0;34m,\u001b[0m \u001b[0;34m**\u001b[0m\u001b[0mk\u001b[0m\u001b[0;34m)\u001b[0m\u001b[0;34m\u001b[0m\u001b[0;34m\u001b[0m\u001b[0m\n\u001b[0m\u001b[1;32m    188\u001b[0m \u001b[0;34m\u001b[0m\u001b[0m\n\u001b[1;32m    189\u001b[0m         \u001b[0;32mif\u001b[0m \u001b[0mcallable\u001b[0m\u001b[0;34m(\u001b[0m\u001b[0marg\u001b[0m\u001b[0;34m)\u001b[0m\u001b[0;34m:\u001b[0m\u001b[0;34m\u001b[0m\u001b[0;34m\u001b[0m\u001b[0m\n",
      "\u001b[0;32m~/repos/ipython-kusto/.venv/lib/python3.8/site-packages/ipython_kusto-0.0.5-py3.8.egg/kusto/magic.py\u001b[0m in \u001b[0;36mexecute\u001b[0;34m(self, line, cell, local_ns)\u001b[0m\n\u001b[1;32m    185\u001b[0m         \u001b[0;32mexcept\u001b[0m \u001b[0mKustoError\u001b[0m \u001b[0;32mas\u001b[0m \u001b[0me\u001b[0m\u001b[0;34m:\u001b[0m\u001b[0;34m\u001b[0m\u001b[0;34m\u001b[0m\u001b[0m\n\u001b[1;32m    186\u001b[0m             \u001b[0;32mif\u001b[0m \u001b[0margs\u001b[0m\u001b[0;34m.\u001b[0m\u001b[0merror\u001b[0m\u001b[0;34m:\u001b[0m\u001b[0;34m\u001b[0m\u001b[0;34m\u001b[0m\u001b[0m\n\u001b[0;32m--> 187\u001b[0;31m                 \u001b[0;32mraise\u001b[0m \u001b[0me\u001b[0m\u001b[0;34m\u001b[0m\u001b[0;34m\u001b[0m\u001b[0m\n\u001b[0m\u001b[1;32m    188\u001b[0m             \u001b[0;32mtry\u001b[0m\u001b[0;34m:\u001b[0m\u001b[0;34m\u001b[0m\u001b[0;34m\u001b[0m\u001b[0m\n\u001b[1;32m    189\u001b[0m                 \u001b[0;31m# This is all kinda kludgy\u001b[0m\u001b[0;34m\u001b[0m\u001b[0;34m\u001b[0m\u001b[0;34m\u001b[0m\u001b[0m\n",
      "\u001b[0;32m~/repos/ipython-kusto/.venv/lib/python3.8/site-packages/ipython_kusto-0.0.5-py3.8.egg/kusto/magic.py\u001b[0m in \u001b[0;36mexecute\u001b[0;34m(self, line, cell, local_ns)\u001b[0m\n\u001b[1;32m    179\u001b[0m                 \u001b[0;32mreturn\u001b[0m \u001b[0;34m\"No database specified\"\u001b[0m\u001b[0;34m\u001b[0m\u001b[0;34m\u001b[0m\u001b[0m\n\u001b[1;32m    180\u001b[0m             \u001b[0mv\u001b[0m \u001b[0;34m=\u001b[0m \u001b[0margs\u001b[0m\u001b[0;34m.\u001b[0m\u001b[0mset\u001b[0m \u001b[0;32mor\u001b[0m \u001b[0;34m'kqlresult'\u001b[0m\u001b[0;34m\u001b[0m\u001b[0;34m\u001b[0m\u001b[0m\n\u001b[0;32m--> 181\u001b[0;31m             \u001b[0mdf\u001b[0m \u001b[0;34m=\u001b[0m \u001b[0mrun_query\u001b[0m\u001b[0;34m(\u001b[0m\u001b[0mc\u001b[0m\u001b[0;34m,\u001b[0m \u001b[0md\u001b[0m\u001b[0;34m,\u001b[0m \u001b[0mparsed\u001b[0m\u001b[0;34m)\u001b[0m\u001b[0;34m\u001b[0m\u001b[0;34m\u001b[0m\u001b[0m\n\u001b[0m\u001b[1;32m    182\u001b[0m             \u001b[0mself\u001b[0m\u001b[0;34m.\u001b[0m\u001b[0mshell\u001b[0m\u001b[0;34m.\u001b[0m\u001b[0muser_ns\u001b[0m\u001b[0;34m.\u001b[0m\u001b[0mupdate\u001b[0m\u001b[0;34m(\u001b[0m\u001b[0;34m{\u001b[0m\u001b[0mv\u001b[0m\u001b[0;34m:\u001b[0m \u001b[0mdf\u001b[0m\u001b[0;34m}\u001b[0m\u001b[0;34m)\u001b[0m\u001b[0;34m\u001b[0m\u001b[0;34m\u001b[0m\u001b[0m\n\u001b[1;32m    183\u001b[0m             \u001b[0;32mif\u001b[0m \u001b[0;32mnot\u001b[0m \u001b[0margs\u001b[0m\u001b[0;34m.\u001b[0m\u001b[0mquiet\u001b[0m\u001b[0;34m:\u001b[0m\u001b[0;34m\u001b[0m\u001b[0;34m\u001b[0m\u001b[0m\n",
      "\u001b[0;32m~/repos/ipython-kusto/.venv/lib/python3.8/site-packages/ipython_kusto-0.0.5-py3.8.egg/kusto/magic.py\u001b[0m in \u001b[0;36mrun_query\u001b[0;34m(cluster, db, query)\u001b[0m\n\u001b[1;32m     67\u001b[0m         \u001b[0mcluster\u001b[0m \u001b[0;34m=\u001b[0m \u001b[0;34mf'https://{cluster}.kusto.windows.net'\u001b[0m\u001b[0;34m\u001b[0m\u001b[0;34m\u001b[0m\u001b[0m\n\u001b[1;32m     68\u001b[0m     \u001b[0mclient\u001b[0m \u001b[0;34m=\u001b[0m \u001b[0mKustoClient\u001b[0m\u001b[0;34m(\u001b[0m\u001b[0mKustoConnectionStringBuilder\u001b[0m\u001b[0;34m.\u001b[0m\u001b[0mwith_az_cli_authentication\u001b[0m\u001b[0;34m(\u001b[0m\u001b[0mcluster\u001b[0m\u001b[0;34m)\u001b[0m\u001b[0;34m)\u001b[0m\u001b[0;34m\u001b[0m\u001b[0;34m\u001b[0m\u001b[0m\n\u001b[0;32m---> 69\u001b[0;31m     \u001b[0mresponse\u001b[0m \u001b[0;34m=\u001b[0m \u001b[0mclient\u001b[0m\u001b[0;34m.\u001b[0m\u001b[0mexecute\u001b[0m\u001b[0;34m(\u001b[0m\u001b[0mdb\u001b[0m\u001b[0;34m,\u001b[0m \u001b[0mquery\u001b[0m\u001b[0;34m)\u001b[0m\u001b[0;34m\u001b[0m\u001b[0;34m\u001b[0m\u001b[0m\n\u001b[0m\u001b[1;32m     70\u001b[0m     \u001b[0;32mreturn\u001b[0m \u001b[0mdataframe_from_result_table\u001b[0m\u001b[0;34m(\u001b[0m\u001b[0mresponse\u001b[0m\u001b[0;34m.\u001b[0m\u001b[0mprimary_results\u001b[0m\u001b[0;34m[\u001b[0m\u001b[0;36m0\u001b[0m\u001b[0;34m]\u001b[0m\u001b[0;34m)\u001b[0m\u001b[0;34m\u001b[0m\u001b[0;34m\u001b[0m\u001b[0m\n\u001b[1;32m     71\u001b[0m \u001b[0;34m\u001b[0m\u001b[0m\n",
      "\u001b[0;32m~/repos/ipython-kusto/.venv/lib/python3.8/site-packages/azure/kusto/data/client.py\u001b[0m in \u001b[0;36mexecute\u001b[0;34m(self, database, query, properties)\u001b[0m\n\u001b[1;32m    606\u001b[0m         \u001b[0;32mif\u001b[0m \u001b[0mquery\u001b[0m\u001b[0;34m.\u001b[0m\u001b[0mstartswith\u001b[0m\u001b[0;34m(\u001b[0m\u001b[0;34m\".\"\u001b[0m\u001b[0;34m)\u001b[0m\u001b[0;34m:\u001b[0m\u001b[0;34m\u001b[0m\u001b[0;34m\u001b[0m\u001b[0m\n\u001b[1;32m    607\u001b[0m             \u001b[0;32mreturn\u001b[0m \u001b[0mself\u001b[0m\u001b[0;34m.\u001b[0m\u001b[0mexecute_mgmt\u001b[0m\u001b[0;34m(\u001b[0m\u001b[0mdatabase\u001b[0m\u001b[0;34m,\u001b[0m \u001b[0mquery\u001b[0m\u001b[0;34m,\u001b[0m \u001b[0mproperties\u001b[0m\u001b[0;34m)\u001b[0m\u001b[0;34m\u001b[0m\u001b[0;34m\u001b[0m\u001b[0m\n\u001b[0;32m--> 608\u001b[0;31m         \u001b[0;32mreturn\u001b[0m \u001b[0mself\u001b[0m\u001b[0;34m.\u001b[0m\u001b[0mexecute_query\u001b[0m\u001b[0;34m(\u001b[0m\u001b[0mdatabase\u001b[0m\u001b[0;34m,\u001b[0m \u001b[0mquery\u001b[0m\u001b[0;34m,\u001b[0m \u001b[0mproperties\u001b[0m\u001b[0;34m)\u001b[0m\u001b[0;34m\u001b[0m\u001b[0;34m\u001b[0m\u001b[0m\n\u001b[0m\u001b[1;32m    609\u001b[0m \u001b[0;34m\u001b[0m\u001b[0m\n\u001b[1;32m    610\u001b[0m     \u001b[0;32mdef\u001b[0m \u001b[0mexecute_query\u001b[0m\u001b[0;34m(\u001b[0m\u001b[0mself\u001b[0m\u001b[0;34m,\u001b[0m \u001b[0mdatabase\u001b[0m\u001b[0;34m:\u001b[0m \u001b[0mstr\u001b[0m\u001b[0;34m,\u001b[0m \u001b[0mquery\u001b[0m\u001b[0;34m:\u001b[0m \u001b[0mstr\u001b[0m\u001b[0;34m,\u001b[0m \u001b[0mproperties\u001b[0m\u001b[0;34m:\u001b[0m \u001b[0mClientRequestProperties\u001b[0m \u001b[0;34m=\u001b[0m \u001b[0;32mNone\u001b[0m\u001b[0;34m)\u001b[0m \u001b[0;34m->\u001b[0m \u001b[0mKustoResponseDataSet\u001b[0m\u001b[0;34m:\u001b[0m\u001b[0;34m\u001b[0m\u001b[0;34m\u001b[0m\u001b[0m\n",
      "\u001b[0;32m~/repos/ipython-kusto/.venv/lib/python3.8/site-packages/azure/kusto/data/client.py\u001b[0m in \u001b[0;36mexecute_query\u001b[0;34m(self, database, query, properties)\u001b[0m\n\u001b[1;32m    618\u001b[0m         \u001b[0;34m:\u001b[0m\u001b[0mrtype\u001b[0m\u001b[0;34m:\u001b[0m \u001b[0mazure\u001b[0m\u001b[0;34m.\u001b[0m\u001b[0mkusto\u001b[0m\u001b[0;34m.\u001b[0m\u001b[0mdata\u001b[0m\u001b[0;34m.\u001b[0m\u001b[0mresponse\u001b[0m\u001b[0;34m.\u001b[0m\u001b[0mKustoResponseDataSet\u001b[0m\u001b[0;34m\u001b[0m\u001b[0;34m\u001b[0m\u001b[0m\n\u001b[1;32m    619\u001b[0m         \"\"\"\n\u001b[0;32m--> 620\u001b[0;31m         \u001b[0;32mreturn\u001b[0m \u001b[0mself\u001b[0m\u001b[0;34m.\u001b[0m\u001b[0m_execute\u001b[0m\u001b[0;34m(\u001b[0m\u001b[0mself\u001b[0m\u001b[0;34m.\u001b[0m\u001b[0m_query_endpoint\u001b[0m\u001b[0;34m,\u001b[0m \u001b[0mdatabase\u001b[0m\u001b[0;34m,\u001b[0m \u001b[0mquery\u001b[0m\u001b[0;34m,\u001b[0m \u001b[0;32mNone\u001b[0m\u001b[0;34m,\u001b[0m \u001b[0mKustoClient\u001b[0m\u001b[0;34m.\u001b[0m\u001b[0m_query_default_timeout\u001b[0m\u001b[0;34m,\u001b[0m \u001b[0mproperties\u001b[0m\u001b[0;34m)\u001b[0m\u001b[0;34m\u001b[0m\u001b[0;34m\u001b[0m\u001b[0m\n\u001b[0m\u001b[1;32m    621\u001b[0m \u001b[0;34m\u001b[0m\u001b[0m\n\u001b[1;32m    622\u001b[0m     \u001b[0;32mdef\u001b[0m \u001b[0mexecute_mgmt\u001b[0m\u001b[0;34m(\u001b[0m\u001b[0mself\u001b[0m\u001b[0;34m,\u001b[0m \u001b[0mdatabase\u001b[0m\u001b[0;34m:\u001b[0m \u001b[0mstr\u001b[0m\u001b[0;34m,\u001b[0m \u001b[0mquery\u001b[0m\u001b[0;34m:\u001b[0m \u001b[0mstr\u001b[0m\u001b[0;34m,\u001b[0m \u001b[0mproperties\u001b[0m\u001b[0;34m:\u001b[0m \u001b[0mClientRequestProperties\u001b[0m \u001b[0;34m=\u001b[0m \u001b[0;32mNone\u001b[0m\u001b[0;34m)\u001b[0m \u001b[0;34m->\u001b[0m \u001b[0mKustoResponseDataSet\u001b[0m\u001b[0;34m:\u001b[0m\u001b[0;34m\u001b[0m\u001b[0;34m\u001b[0m\u001b[0m\n",
      "\u001b[0;32m~/repos/ipython-kusto/.venv/lib/python3.8/site-packages/azure/kusto/data/client.py\u001b[0m in \u001b[0;36m_execute\u001b[0;34m(self, endpoint, database, query, payload, timeout, properties)\u001b[0m\n\u001b[1;32m    706\u001b[0m             )\n\u001b[1;32m    707\u001b[0m \u001b[0;34m\u001b[0m\u001b[0m\n\u001b[0;32m--> 708\u001b[0;31m         \u001b[0;32mraise\u001b[0m \u001b[0mKustoServiceError\u001b[0m\u001b[0;34m(\u001b[0m\u001b[0;34m[\u001b[0m\u001b[0mresponse\u001b[0m\u001b[0;34m.\u001b[0m\u001b[0mjson\u001b[0m\u001b[0;34m(\u001b[0m\u001b[0;34m)\u001b[0m\u001b[0;34m]\u001b[0m\u001b[0;34m,\u001b[0m \u001b[0mresponse\u001b[0m\u001b[0;34m)\u001b[0m\u001b[0;34m\u001b[0m\u001b[0;34m\u001b[0m\u001b[0m\n\u001b[0m",
      "\u001b[0;31mKustoServiceError\u001b[0m: [{'error': {'code': 'General_BadRequest', 'message': 'Request is invalid and cannot be executed.', '@type': 'Kusto.Data.Exceptions.KustoBadRequestException', '@message': \"Semantic error: 'StormEventz | limit 4' has the following semantic error: SEM0100: 'take' operator: Failed to resolve table or column expression named 'StormEventz'.\", '@context': {'timestamp': '2020-08-21T21:05:47.4008891Z', 'serviceAlias': 'HELP', 'machineName': 'KEngine000000', 'processName': 'Kusto.WinSvc.Svc', 'processId': 4684, 'threadId': 11984, 'appDomainName': 'Kusto.WinSvc.Svc.exe', 'clientRequestId': 'KPC.execute;9b42b9d3-388c-4051-b478-d8cfe4a7a949', 'activityId': '34eea8f5-77fd-4871-9c59-add3dbe51d66', 'subActivityId': '4b09edfb-0a50-43c6-9ffc-145943734d7d', 'activityType': 'DN.FE.ExecuteQuery', 'parentActivityId': '288122e7-aaa3-412d-a390-dfb963ce6aaa', 'activityStack': '(Activity stack: CRID=KPC.execute;9b42b9d3-388c-4051-b478-d8cfe4a7a949 ARID=34eea8f5-77fd-4871-9c59-add3dbe51d66 > KD.Query.Client.ExecuteQueryAsKustoDataStream/802cff4e-bb83-4535-a8c9-909189f6e712 > P.WCF.Service.ExecuteQueryInternalAsKustoDataStream..IClientServiceCommunicationContract/288122e7-aaa3-412d-a390-dfb963ce6aaa > DN.FE.ExecuteQuery/4b09edfb-0a50-43c6-9ffc-145943734d7d)'}, '@permanent': True, '@text': 'StormEventz | limit 4', '@database': 'Samples', '@ClientRequestLogger': '', 'innererror': {'code': 'SEM0100', 'message': \"'take' operator: Failed to resolve table or column expression named 'StormEventz'\", '@type': 'Kusto.Data.Exceptions.SemanticException', '@message': \"Semantic error: 'StormEventz | limit 4' has the following semantic error: SEM0100: 'take' operator: Failed to resolve table or column expression named 'StormEventz'.\", '@context': {'timestamp': '2020-08-21T21:05:47.4008891Z', 'serviceAlias': 'HELP', 'machineName': 'KEngine000000', 'processName': 'Kusto.WinSvc.Svc', 'processId': 4684, 'threadId': 11984, 'appDomainName': 'Kusto.WinSvc.Svc.exe', 'clientRequestId': 'KPC.execute;9b42b9d3-388c-4051-b478-d8cfe4a7a949', 'activityId': '34eea8f5-77fd-4871-9c59-add3dbe51d66', 'subActivityId': '4b09edfb-0a50-43c6-9ffc-145943734d7d', 'activityType': 'DN.FE.ExecuteQuery', 'parentActivityId': '288122e7-aaa3-412d-a390-dfb963ce6aaa', 'activityStack': '(Activity stack: CRID=KPC.execute;9b42b9d3-388c-4051-b478-d8cfe4a7a949 ARID=34eea8f5-77fd-4871-9c59-add3dbe51d66 > KD.Query.Client.ExecuteQueryAsKustoDataStream/802cff4e-bb83-4535-a8c9-909189f6e712 > P.WCF.Service.ExecuteQueryInternalAsKustoDataStream..IClientServiceCommunicationContract/288122e7-aaa3-412d-a390-dfb963ce6aaa > DN.FE.ExecuteQuery/4b09edfb-0a50-43c6-9ffc-145943734d7d)'}, '@permanent': True, '@errorCode': 'SEM0100', '@errorMessage': \"'take' operator: Failed to resolve table or column expression named 'StormEventz'\"}}}]"
     ]
    }
   ],
   "source": [
    "%%kql --error\n",
    "StormEventz | limit 4"
   ]
  },
  {
   "cell_type": "code",
   "execution_count": null,
   "metadata": {},
   "outputs": [],
   "source": []
  }
 ]
}